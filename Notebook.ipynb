{
  "cells": [
    {
      "cell_type": "markdown",
      "metadata": {
        "id": "UkWRhi0yicz7"
      },
      "source": [
        "# **Telecommunications Service Provider Customer Churn Data Anlysis**\n",
        "## A case study of SyriaTel Telecommunications"
      ]
    },
    {
      "cell_type": "markdown",
      "metadata": {},
      "source": [
        "# **Business Understanding**"
      ]
    },
    {
      "cell_type": "markdown",
      "metadata": {},
      "source": [
        "SyriaTel is a mobile telecommunications company based in Damascus, Syria. It was founded in the year 2000. From the datset provided, it is evident that SyriaTel provides both local and international calling services. They also have voicemail plans and a customer service department to offer tech support to clients."
      ]
    },
    {
      "cell_type": "markdown",
      "metadata": {},
      "source": [
        "### Problem Statement "
      ]
    },
    {
      "cell_type": "markdown",
      "metadata": {},
      "source": [
        "Syria wants to identify which customers are likely to churn based on historical data and behavioral patterns. The goal is to enhance overall customer satisfaction by identifying factors that lead them to churn and mitigating them early. \n",
        "\n",
        "Retaining customers is not only cost-effective but also contributes to revenue growth. Preventing churn ensures a stable customer base and promotes long-term business sustainability.\n",
        "\n",
        "According to available reasearch findings linked below, the average churn rate for mobile services is about 20% and reducing churn by just 1% can increase profits by up to 5%. Our objective will be to create a model and gain insights on how to reduce the churn as much as possible.<br>\n",
        "source: https://www.subscriptionflow.com/2022/11/churn-management-in-telecom-industry/"
      ]
    },
    {
      "cell_type": "markdown",
      "metadata": {},
      "source": [
        "### Stakeholders "
      ]
    },
    {
      "cell_type": "markdown",
      "metadata": {},
      "source": [
        "**SyriaTel senior management:** To identify the factors leading to churn and formulate strategies to mitigate it from our recommendations. <br>\n",
        "**Technical Support** To identify the technical issues leading to the churn factors the model will highlight and fix them to avoid future customer churn. <br>\n",
        "**Customer Service** To guide customers out of any hurdles identified by this model to improve customer satisfaction and ultimately retention. <br>"
      ]
    },
    {
      "cell_type": "markdown",
      "metadata": {},
      "source": [
        "# **Data Understanding**"
      ]
    },
    {
      "cell_type": "markdown",
      "metadata": {},
      "source": [
        "From the dataset provided, this are the assumed descriptions of each column \n",
        "\n",
        "**Unique Identifier**: *phone number*: The unique identifier for each customer's phone number.\n",
        "\n",
        "**Target**: *churn*: Binary indicator (yes/no) of whether the customer churned (terminated services).\n",
        "\n",
        "state: The state in which the customer resides.\n",
        "\n",
        "account length: The duration of time the customer has been subscribed to SyriaTel's services.\n",
        "\n",
        "area code: The area code associated with the customer's phone number.\n",
        "\n",
        "international plan: Binary indicator (yes/no) of whether the customer has an international calling plan.\n",
        "\n",
        "voice mail plan: Binary indicator (yes/no) of whether the customer has a voicemail plan.\n",
        "\n",
        "number vmail messages: The number of voicemail messages the customer has.\n",
        "\n",
        "customer service calls: The number of calls made by the customer to the customer service department.\n",
        "total day/evening/night minutes: The total number of minutes the customer used during the period indicated.\n",
        "\n",
        "total day/evening/night calls: The total number of calls the customer made during the period indicated.\n",
        "\n",
        "total day/evening/night charge: The total charge for the period indicated\n",
        "\n",
        "\n",
        "\n",
        "\n"
      ]
    },
    {
      "cell_type": "markdown",
      "metadata": {},
      "source": [
        "## Objective"
      ]
    },
    {
      "cell_type": "markdown",
      "metadata": {},
      "source": [
        "Identify factors leading leading to customer churn from the models created and offer actionable reccomendations and future improvement areas in the form of 'Next Steps' "
      ]
    },
    {
      "cell_type": "markdown",
      "metadata": {
        "id": "YY6CRb0Gniru"
      },
      "source": [
        "# **Data Preparation**"
      ]
    },
    {
      "cell_type": "markdown",
      "metadata": {
        "id": "5_ZCRU11kUQb"
      },
      "source": [
        "Importing Packages"
      ]
    },
    {
      "cell_type": "code",
      "execution_count": 7,
      "metadata": {
        "id": "aQANsLeYklBw"
      },
      "outputs": [],
      "source": [
        "import pandas as pd\n",
        "import numpy as np\n",
        "import matplotlib.pyplot as plt\n",
        "\n",
        "\n",
        "import seaborn as sns\n",
        "sns.set_style('whitegrid')\n",
        "%matplotlib inline\n",
        "\n",
        "#Modelling imports\n",
        "from sklearn.model_selection import train_test_split\n",
        "from sklearn.ensemble import RandomForestClassifier\n",
        "from sklearn.feature_selection import RFE\n",
        "from sklearn.metrics import accuracy_score\n",
        "\n",
        "from sklearn.preprocessing import OneHotEncoder\n",
        "from sklearn.compose import ColumnTransformer\n",
        "\n",
        "\n",
        "from sklearn.tree import DecisionTreeClassifier\n",
        "from sklearn.metrics import accuracy_score, recall_score, classification_report, confusion_matrix, f1_score\n",
        "\n",
        "import seaborn as sns\n",
        "from sklearn.feature_selection import SelectFromModel\n",
        "from sklearn.model_selection import cross_val_score\n",
        "\n",
        "from sklearn.ensemble import RandomForestClassifier\n",
        "\n",
        "from sklearn.model_selection import GridSearchCV\n"
      ]
    },
    {
      "cell_type": "code",
      "execution_count": 8,
      "metadata": {
        "colab": {
          "base_uri": "https://localhost:8080/",
          "height": 377
        },
        "id": "zzywAUavk0qj",
        "outputId": "82896953-d9f8-413b-d066-1c6cf7dc8555"
      },
      "outputs": [
        {
          "data": {
            "text/html": [
              "<div>\n",
              "<style scoped>\n",
              "    .dataframe tbody tr th:only-of-type {\n",
              "        vertical-align: middle;\n",
              "    }\n",
              "\n",
              "    .dataframe tbody tr th {\n",
              "        vertical-align: top;\n",
              "    }\n",
              "\n",
              "    .dataframe thead th {\n",
              "        text-align: right;\n",
              "    }\n",
              "</style>\n",
              "<table border=\"1\" class=\"dataframe\">\n",
              "  <thead>\n",
              "    <tr style=\"text-align: right;\">\n",
              "      <th></th>\n",
              "      <th>state</th>\n",
              "      <th>account length</th>\n",
              "      <th>area code</th>\n",
              "      <th>phone number</th>\n",
              "      <th>international plan</th>\n",
              "      <th>voice mail plan</th>\n",
              "      <th>number vmail messages</th>\n",
              "      <th>total day minutes</th>\n",
              "      <th>total day calls</th>\n",
              "      <th>total day charge</th>\n",
              "      <th>...</th>\n",
              "      <th>total eve calls</th>\n",
              "      <th>total eve charge</th>\n",
              "      <th>total night minutes</th>\n",
              "      <th>total night calls</th>\n",
              "      <th>total night charge</th>\n",
              "      <th>total intl minutes</th>\n",
              "      <th>total intl calls</th>\n",
              "      <th>total intl charge</th>\n",
              "      <th>customer service calls</th>\n",
              "      <th>churn</th>\n",
              "    </tr>\n",
              "  </thead>\n",
              "  <tbody>\n",
              "    <tr>\n",
              "      <th>0</th>\n",
              "      <td>KS</td>\n",
              "      <td>128</td>\n",
              "      <td>415</td>\n",
              "      <td>382-4657</td>\n",
              "      <td>no</td>\n",
              "      <td>yes</td>\n",
              "      <td>25</td>\n",
              "      <td>265.1</td>\n",
              "      <td>110</td>\n",
              "      <td>45.07</td>\n",
              "      <td>...</td>\n",
              "      <td>99</td>\n",
              "      <td>16.78</td>\n",
              "      <td>244.7</td>\n",
              "      <td>91</td>\n",
              "      <td>11.01</td>\n",
              "      <td>10.0</td>\n",
              "      <td>3</td>\n",
              "      <td>2.70</td>\n",
              "      <td>1</td>\n",
              "      <td>False</td>\n",
              "    </tr>\n",
              "    <tr>\n",
              "      <th>1</th>\n",
              "      <td>OH</td>\n",
              "      <td>107</td>\n",
              "      <td>415</td>\n",
              "      <td>371-7191</td>\n",
              "      <td>no</td>\n",
              "      <td>yes</td>\n",
              "      <td>26</td>\n",
              "      <td>161.6</td>\n",
              "      <td>123</td>\n",
              "      <td>27.47</td>\n",
              "      <td>...</td>\n",
              "      <td>103</td>\n",
              "      <td>16.62</td>\n",
              "      <td>254.4</td>\n",
              "      <td>103</td>\n",
              "      <td>11.45</td>\n",
              "      <td>13.7</td>\n",
              "      <td>3</td>\n",
              "      <td>3.70</td>\n",
              "      <td>1</td>\n",
              "      <td>False</td>\n",
              "    </tr>\n",
              "    <tr>\n",
              "      <th>2</th>\n",
              "      <td>NJ</td>\n",
              "      <td>137</td>\n",
              "      <td>415</td>\n",
              "      <td>358-1921</td>\n",
              "      <td>no</td>\n",
              "      <td>no</td>\n",
              "      <td>0</td>\n",
              "      <td>243.4</td>\n",
              "      <td>114</td>\n",
              "      <td>41.38</td>\n",
              "      <td>...</td>\n",
              "      <td>110</td>\n",
              "      <td>10.30</td>\n",
              "      <td>162.6</td>\n",
              "      <td>104</td>\n",
              "      <td>7.32</td>\n",
              "      <td>12.2</td>\n",
              "      <td>5</td>\n",
              "      <td>3.29</td>\n",
              "      <td>0</td>\n",
              "      <td>False</td>\n",
              "    </tr>\n",
              "    <tr>\n",
              "      <th>3</th>\n",
              "      <td>OH</td>\n",
              "      <td>84</td>\n",
              "      <td>408</td>\n",
              "      <td>375-9999</td>\n",
              "      <td>yes</td>\n",
              "      <td>no</td>\n",
              "      <td>0</td>\n",
              "      <td>299.4</td>\n",
              "      <td>71</td>\n",
              "      <td>50.90</td>\n",
              "      <td>...</td>\n",
              "      <td>88</td>\n",
              "      <td>5.26</td>\n",
              "      <td>196.9</td>\n",
              "      <td>89</td>\n",
              "      <td>8.86</td>\n",
              "      <td>6.6</td>\n",
              "      <td>7</td>\n",
              "      <td>1.78</td>\n",
              "      <td>2</td>\n",
              "      <td>False</td>\n",
              "    </tr>\n",
              "    <tr>\n",
              "      <th>4</th>\n",
              "      <td>OK</td>\n",
              "      <td>75</td>\n",
              "      <td>415</td>\n",
              "      <td>330-6626</td>\n",
              "      <td>yes</td>\n",
              "      <td>no</td>\n",
              "      <td>0</td>\n",
              "      <td>166.7</td>\n",
              "      <td>113</td>\n",
              "      <td>28.34</td>\n",
              "      <td>...</td>\n",
              "      <td>122</td>\n",
              "      <td>12.61</td>\n",
              "      <td>186.9</td>\n",
              "      <td>121</td>\n",
              "      <td>8.41</td>\n",
              "      <td>10.1</td>\n",
              "      <td>3</td>\n",
              "      <td>2.73</td>\n",
              "      <td>3</td>\n",
              "      <td>False</td>\n",
              "    </tr>\n",
              "  </tbody>\n",
              "</table>\n",
              "<p>5 rows × 21 columns</p>\n",
              "</div>"
            ],
            "text/plain": [
              "  state  account length  area code phone number international plan  \\\n",
              "0    KS             128        415     382-4657                 no   \n",
              "1    OH             107        415     371-7191                 no   \n",
              "2    NJ             137        415     358-1921                 no   \n",
              "3    OH              84        408     375-9999                yes   \n",
              "4    OK              75        415     330-6626                yes   \n",
              "\n",
              "  voice mail plan  number vmail messages  total day minutes  total day calls  \\\n",
              "0             yes                     25              265.1              110   \n",
              "1             yes                     26              161.6              123   \n",
              "2              no                      0              243.4              114   \n",
              "3              no                      0              299.4               71   \n",
              "4              no                      0              166.7              113   \n",
              "\n",
              "   total day charge  ...  total eve calls  total eve charge  \\\n",
              "0             45.07  ...               99             16.78   \n",
              "1             27.47  ...              103             16.62   \n",
              "2             41.38  ...              110             10.30   \n",
              "3             50.90  ...               88              5.26   \n",
              "4             28.34  ...              122             12.61   \n",
              "\n",
              "   total night minutes  total night calls  total night charge  \\\n",
              "0                244.7                 91               11.01   \n",
              "1                254.4                103               11.45   \n",
              "2                162.6                104                7.32   \n",
              "3                196.9                 89                8.86   \n",
              "4                186.9                121                8.41   \n",
              "\n",
              "   total intl minutes  total intl calls  total intl charge  \\\n",
              "0                10.0                 3               2.70   \n",
              "1                13.7                 3               3.70   \n",
              "2                12.2                 5               3.29   \n",
              "3                 6.6                 7               1.78   \n",
              "4                10.1                 3               2.73   \n",
              "\n",
              "   customer service calls  churn  \n",
              "0                       1  False  \n",
              "1                       1  False  \n",
              "2                       0  False  \n",
              "3                       2  False  \n",
              "4                       3  False  \n",
              "\n",
              "[5 rows x 21 columns]"
            ]
          },
          "execution_count": 8,
          "metadata": {},
          "output_type": "execute_result"
        }
      ],
      "source": [
        "df = pd.read_csv('bigml_59c28831336c6604c800002a.csv')\n",
        "df.head()"
      ]
    },
    {
      "cell_type": "code",
      "execution_count": 9,
      "metadata": {
        "colab": {
          "base_uri": "https://localhost:8080/"
        },
        "id": "a66s5YzYlKI4",
        "outputId": "800ab8ef-d76e-4107-abd3-d7eb4ae17c12"
      },
      "outputs": [
        {
          "data": {
            "text/plain": [
              "(3333, 21)"
            ]
          },
          "execution_count": 9,
          "metadata": {},
          "output_type": "execute_result"
        }
      ],
      "source": [
        "#Checking number of rows and columns\n",
        "df.shape"
      ]
    },
    {
      "cell_type": "code",
      "execution_count": 10,
      "metadata": {
        "colab": {
          "base_uri": "https://localhost:8080/"
        },
        "id": "hH7EVEzemFHC",
        "outputId": "831197f5-50c5-47e2-867c-770644f5fd8b"
      },
      "outputs": [
        {
          "name": "stdout",
          "output_type": "stream",
          "text": [
            "<class 'pandas.core.frame.DataFrame'>\n",
            "RangeIndex: 3333 entries, 0 to 3332\n",
            "Data columns (total 21 columns):\n",
            " #   Column                  Non-Null Count  Dtype  \n",
            "---  ------                  --------------  -----  \n",
            " 0   state                   3333 non-null   object \n",
            " 1   account length          3333 non-null   int64  \n",
            " 2   area code               3333 non-null   int64  \n",
            " 3   phone number            3333 non-null   object \n",
            " 4   international plan      3333 non-null   object \n",
            " 5   voice mail plan         3333 non-null   object \n",
            " 6   number vmail messages   3333 non-null   int64  \n",
            " 7   total day minutes       3333 non-null   float64\n",
            " 8   total day calls         3333 non-null   int64  \n",
            " 9   total day charge        3333 non-null   float64\n",
            " 10  total eve minutes       3333 non-null   float64\n",
            " 11  total eve calls         3333 non-null   int64  \n",
            " 12  total eve charge        3333 non-null   float64\n",
            " 13  total night minutes     3333 non-null   float64\n",
            " 14  total night calls       3333 non-null   int64  \n",
            " 15  total night charge      3333 non-null   float64\n",
            " 16  total intl minutes      3333 non-null   float64\n",
            " 17  total intl calls        3333 non-null   int64  \n",
            " 18  total intl charge       3333 non-null   float64\n",
            " 19  customer service calls  3333 non-null   int64  \n",
            " 20  churn                   3333 non-null   bool   \n",
            "dtypes: bool(1), float64(8), int64(8), object(4)\n",
            "memory usage: 524.2+ KB\n"
          ]
        }
      ],
      "source": [
        "#Looking at the data types\n",
        "df.info()"
      ]
    },
    {
      "cell_type": "code",
      "execution_count": 11,
      "metadata": {
        "colab": {
          "base_uri": "https://localhost:8080/"
        },
        "id": "Uxl8Mn4-mJkl",
        "outputId": "3f9dffe9-1568-4d84-ddbb-eb50527eca9c"
      },
      "outputs": [
        {
          "data": {
            "text/plain": [
              "state                     0\n",
              "account length            0\n",
              "area code                 0\n",
              "phone number              0\n",
              "international plan        0\n",
              "voice mail plan           0\n",
              "number vmail messages     0\n",
              "total day minutes         0\n",
              "total day calls           0\n",
              "total day charge          0\n",
              "total eve minutes         0\n",
              "total eve calls           0\n",
              "total eve charge          0\n",
              "total night minutes       0\n",
              "total night calls         0\n",
              "total night charge        0\n",
              "total intl minutes        0\n",
              "total intl calls          0\n",
              "total intl charge         0\n",
              "customer service calls    0\n",
              "churn                     0\n",
              "dtype: int64"
            ]
          },
          "execution_count": 11,
          "metadata": {},
          "output_type": "execute_result"
        }
      ],
      "source": [
        "#Checking for missing values\n",
        "df.isnull().sum()"
      ]
    },
    {
      "cell_type": "code",
      "execution_count": 12,
      "metadata": {
        "colab": {
          "base_uri": "https://localhost:8080/"
        },
        "id": "x99XgCP-nxhW",
        "outputId": "af3d175b-7c61-46af-d5ac-64957014677e"
      },
      "outputs": [
        {
          "data": {
            "text/plain": [
              "False    2850\n",
              "True      483\n",
              "Name: churn, dtype: int64"
            ]
          },
          "execution_count": 12,
          "metadata": {},
          "output_type": "execute_result"
        }
      ],
      "source": [
        "#Checking for unique values of churn\n",
        "\n",
        "df.churn.value_counts()"
      ]
    },
    {
      "cell_type": "code",
      "execution_count": 13,
      "metadata": {
        "colab": {
          "base_uri": "https://localhost:8080/"
        },
        "id": "YM1aATN3oR2d",
        "outputId": "485f2cfb-acc6-43a4-a700-dc1c11d7ab39"
      },
      "outputs": [
        {
          "data": {
            "text/plain": [
              "Index(['state', 'account length', 'area code', 'phone number',\n",
              "       'international plan', 'voice mail plan', 'number vmail messages',\n",
              "       'total day minutes', 'total day calls', 'total day charge',\n",
              "       'total eve minutes', 'total eve calls', 'total eve charge',\n",
              "       'total night minutes', 'total night calls', 'total night charge',\n",
              "       'total intl minutes', 'total intl calls', 'total intl charge',\n",
              "       'customer service calls', 'churn'],\n",
              "      dtype='object')"
            ]
          },
          "execution_count": 13,
          "metadata": {},
          "output_type": "execute_result"
        }
      ],
      "source": [
        "#Checking column names\n",
        "df.columns"
      ]
    },
    {
      "cell_type": "code",
      "execution_count": 14,
      "metadata": {
        "id": "NVVljar4pIyr"
      },
      "outputs": [],
      "source": [
        "#Rename columns without spaces and checking new columns made\n",
        "\n",
        "new_df = df.rename(columns={'account length':'account_lengths', 'area code': 'area_code',\n",
        "                   'phone number': 'phone_number', 'international plan': 'intl_plan',\n",
        "                   'voice mail plan': 'vmail_plan', 'number vmail messages': 'number_vmail_messages',\n",
        "                   'total day minutes':'total_day_mins','total day calls':'total_day_calls',\n",
        "                   'total day charge':'total_day_charge', 'total eve minutes':'total_eve_mins',\n",
        "                   'total eve calls': 'total_eve_calls', 'total eve charge': 'total_eve_charge',\n",
        "                   'total night minutes':'total_night_mins', 'total night calls':'total_night_calls',\n",
        "                   'total night charge': 'total_night_charge', 'total intl minutes':'total_intl_mins',\n",
        "                   'total intl calls': 'total_intl_calls', 'total intl charge': 'total_intl_charge',\n",
        "                   'customer service calls': 'cust_serv_calls'}, inplace=True)\n",
        "\n",
        "\n",
        "\n"
      ]
    },
    {
      "cell_type": "code",
      "execution_count": 15,
      "metadata": {
        "colab": {
          "base_uri": "https://localhost:8080/",
          "height": 256
        },
        "id": "ue9_k4PwprMM",
        "outputId": "15253e20-1568-46ee-ebde-1f339f6e2540"
      },
      "outputs": [
        {
          "data": {
            "text/html": [
              "<div>\n",
              "<style scoped>\n",
              "    .dataframe tbody tr th:only-of-type {\n",
              "        vertical-align: middle;\n",
              "    }\n",
              "\n",
              "    .dataframe tbody tr th {\n",
              "        vertical-align: top;\n",
              "    }\n",
              "\n",
              "    .dataframe thead th {\n",
              "        text-align: right;\n",
              "    }\n",
              "</style>\n",
              "<table border=\"1\" class=\"dataframe\">\n",
              "  <thead>\n",
              "    <tr style=\"text-align: right;\">\n",
              "      <th></th>\n",
              "      <th>state</th>\n",
              "      <th>account_lengths</th>\n",
              "      <th>area_code</th>\n",
              "      <th>phone_number</th>\n",
              "      <th>intl_plan</th>\n",
              "      <th>vmail_plan</th>\n",
              "      <th>number_vmail_messages</th>\n",
              "      <th>total_day_mins</th>\n",
              "      <th>total_day_calls</th>\n",
              "      <th>total_day_charge</th>\n",
              "      <th>...</th>\n",
              "      <th>total_eve_calls</th>\n",
              "      <th>total_eve_charge</th>\n",
              "      <th>total_night_mins</th>\n",
              "      <th>total_night_calls</th>\n",
              "      <th>total_night_charge</th>\n",
              "      <th>total_intl_mins</th>\n",
              "      <th>total_intl_calls</th>\n",
              "      <th>total_intl_charge</th>\n",
              "      <th>cust_serv_calls</th>\n",
              "      <th>churn</th>\n",
              "    </tr>\n",
              "  </thead>\n",
              "  <tbody>\n",
              "    <tr>\n",
              "      <th>0</th>\n",
              "      <td>KS</td>\n",
              "      <td>128</td>\n",
              "      <td>415</td>\n",
              "      <td>382-4657</td>\n",
              "      <td>no</td>\n",
              "      <td>yes</td>\n",
              "      <td>25</td>\n",
              "      <td>265.1</td>\n",
              "      <td>110</td>\n",
              "      <td>45.07</td>\n",
              "      <td>...</td>\n",
              "      <td>99</td>\n",
              "      <td>16.78</td>\n",
              "      <td>244.7</td>\n",
              "      <td>91</td>\n",
              "      <td>11.01</td>\n",
              "      <td>10.0</td>\n",
              "      <td>3</td>\n",
              "      <td>2.70</td>\n",
              "      <td>1</td>\n",
              "      <td>False</td>\n",
              "    </tr>\n",
              "    <tr>\n",
              "      <th>1</th>\n",
              "      <td>OH</td>\n",
              "      <td>107</td>\n",
              "      <td>415</td>\n",
              "      <td>371-7191</td>\n",
              "      <td>no</td>\n",
              "      <td>yes</td>\n",
              "      <td>26</td>\n",
              "      <td>161.6</td>\n",
              "      <td>123</td>\n",
              "      <td>27.47</td>\n",
              "      <td>...</td>\n",
              "      <td>103</td>\n",
              "      <td>16.62</td>\n",
              "      <td>254.4</td>\n",
              "      <td>103</td>\n",
              "      <td>11.45</td>\n",
              "      <td>13.7</td>\n",
              "      <td>3</td>\n",
              "      <td>3.70</td>\n",
              "      <td>1</td>\n",
              "      <td>False</td>\n",
              "    </tr>\n",
              "    <tr>\n",
              "      <th>2</th>\n",
              "      <td>NJ</td>\n",
              "      <td>137</td>\n",
              "      <td>415</td>\n",
              "      <td>358-1921</td>\n",
              "      <td>no</td>\n",
              "      <td>no</td>\n",
              "      <td>0</td>\n",
              "      <td>243.4</td>\n",
              "      <td>114</td>\n",
              "      <td>41.38</td>\n",
              "      <td>...</td>\n",
              "      <td>110</td>\n",
              "      <td>10.30</td>\n",
              "      <td>162.6</td>\n",
              "      <td>104</td>\n",
              "      <td>7.32</td>\n",
              "      <td>12.2</td>\n",
              "      <td>5</td>\n",
              "      <td>3.29</td>\n",
              "      <td>0</td>\n",
              "      <td>False</td>\n",
              "    </tr>\n",
              "    <tr>\n",
              "      <th>3</th>\n",
              "      <td>OH</td>\n",
              "      <td>84</td>\n",
              "      <td>408</td>\n",
              "      <td>375-9999</td>\n",
              "      <td>yes</td>\n",
              "      <td>no</td>\n",
              "      <td>0</td>\n",
              "      <td>299.4</td>\n",
              "      <td>71</td>\n",
              "      <td>50.90</td>\n",
              "      <td>...</td>\n",
              "      <td>88</td>\n",
              "      <td>5.26</td>\n",
              "      <td>196.9</td>\n",
              "      <td>89</td>\n",
              "      <td>8.86</td>\n",
              "      <td>6.6</td>\n",
              "      <td>7</td>\n",
              "      <td>1.78</td>\n",
              "      <td>2</td>\n",
              "      <td>False</td>\n",
              "    </tr>\n",
              "    <tr>\n",
              "      <th>4</th>\n",
              "      <td>OK</td>\n",
              "      <td>75</td>\n",
              "      <td>415</td>\n",
              "      <td>330-6626</td>\n",
              "      <td>yes</td>\n",
              "      <td>no</td>\n",
              "      <td>0</td>\n",
              "      <td>166.7</td>\n",
              "      <td>113</td>\n",
              "      <td>28.34</td>\n",
              "      <td>...</td>\n",
              "      <td>122</td>\n",
              "      <td>12.61</td>\n",
              "      <td>186.9</td>\n",
              "      <td>121</td>\n",
              "      <td>8.41</td>\n",
              "      <td>10.1</td>\n",
              "      <td>3</td>\n",
              "      <td>2.73</td>\n",
              "      <td>3</td>\n",
              "      <td>False</td>\n",
              "    </tr>\n",
              "  </tbody>\n",
              "</table>\n",
              "<p>5 rows × 21 columns</p>\n",
              "</div>"
            ],
            "text/plain": [
              "  state  account_lengths  area_code phone_number intl_plan vmail_plan  \\\n",
              "0    KS              128        415     382-4657        no        yes   \n",
              "1    OH              107        415     371-7191        no        yes   \n",
              "2    NJ              137        415     358-1921        no         no   \n",
              "3    OH               84        408     375-9999       yes         no   \n",
              "4    OK               75        415     330-6626       yes         no   \n",
              "\n",
              "   number_vmail_messages  total_day_mins  total_day_calls  total_day_charge  \\\n",
              "0                     25           265.1              110             45.07   \n",
              "1                     26           161.6              123             27.47   \n",
              "2                      0           243.4              114             41.38   \n",
              "3                      0           299.4               71             50.90   \n",
              "4                      0           166.7              113             28.34   \n",
              "\n",
              "   ...  total_eve_calls  total_eve_charge  total_night_mins  \\\n",
              "0  ...               99             16.78             244.7   \n",
              "1  ...              103             16.62             254.4   \n",
              "2  ...              110             10.30             162.6   \n",
              "3  ...               88              5.26             196.9   \n",
              "4  ...              122             12.61             186.9   \n",
              "\n",
              "   total_night_calls  total_night_charge  total_intl_mins  total_intl_calls  \\\n",
              "0                 91               11.01             10.0                 3   \n",
              "1                103               11.45             13.7                 3   \n",
              "2                104                7.32             12.2                 5   \n",
              "3                 89                8.86              6.6                 7   \n",
              "4                121                8.41             10.1                 3   \n",
              "\n",
              "   total_intl_charge  cust_serv_calls  churn  \n",
              "0               2.70                1  False  \n",
              "1               3.70                1  False  \n",
              "2               3.29                0  False  \n",
              "3               1.78                2  False  \n",
              "4               2.73                3  False  \n",
              "\n",
              "[5 rows x 21 columns]"
            ]
          },
          "execution_count": 15,
          "metadata": {},
          "output_type": "execute_result"
        }
      ],
      "source": [
        "df.head()"
      ]
    },
    {
      "cell_type": "code",
      "execution_count": 16,
      "metadata": {
        "colab": {
          "base_uri": "https://localhost:8080/",
          "height": 320
        },
        "id": "YOsIUwbhrT8b",
        "outputId": "821f4736-7ca0-40c2-f101-ca77d4a9a03a"
      },
      "outputs": [
        {
          "data": {
            "text/html": [
              "<div>\n",
              "<style scoped>\n",
              "    .dataframe tbody tr th:only-of-type {\n",
              "        vertical-align: middle;\n",
              "    }\n",
              "\n",
              "    .dataframe tbody tr th {\n",
              "        vertical-align: top;\n",
              "    }\n",
              "\n",
              "    .dataframe thead th {\n",
              "        text-align: right;\n",
              "    }\n",
              "</style>\n",
              "<table border=\"1\" class=\"dataframe\">\n",
              "  <thead>\n",
              "    <tr style=\"text-align: right;\">\n",
              "      <th></th>\n",
              "      <th>account_lengths</th>\n",
              "      <th>area_code</th>\n",
              "      <th>number_vmail_messages</th>\n",
              "      <th>total_day_mins</th>\n",
              "      <th>total_day_calls</th>\n",
              "      <th>total_day_charge</th>\n",
              "      <th>total_eve_mins</th>\n",
              "      <th>total_eve_calls</th>\n",
              "      <th>total_eve_charge</th>\n",
              "      <th>total_night_mins</th>\n",
              "      <th>total_night_calls</th>\n",
              "      <th>total_night_charge</th>\n",
              "      <th>total_intl_mins</th>\n",
              "      <th>total_intl_calls</th>\n",
              "      <th>total_intl_charge</th>\n",
              "      <th>cust_serv_calls</th>\n",
              "    </tr>\n",
              "  </thead>\n",
              "  <tbody>\n",
              "    <tr>\n",
              "      <th>count</th>\n",
              "      <td>3333.000000</td>\n",
              "      <td>3333.000000</td>\n",
              "      <td>3333.000000</td>\n",
              "      <td>3333.000000</td>\n",
              "      <td>3333.000000</td>\n",
              "      <td>3333.000000</td>\n",
              "      <td>3333.000000</td>\n",
              "      <td>3333.000000</td>\n",
              "      <td>3333.000000</td>\n",
              "      <td>3333.000000</td>\n",
              "      <td>3333.000000</td>\n",
              "      <td>3333.000000</td>\n",
              "      <td>3333.000000</td>\n",
              "      <td>3333.000000</td>\n",
              "      <td>3333.000000</td>\n",
              "      <td>3333.000000</td>\n",
              "    </tr>\n",
              "    <tr>\n",
              "      <th>mean</th>\n",
              "      <td>101.064806</td>\n",
              "      <td>437.182418</td>\n",
              "      <td>8.099010</td>\n",
              "      <td>179.775098</td>\n",
              "      <td>100.435644</td>\n",
              "      <td>30.562307</td>\n",
              "      <td>200.980348</td>\n",
              "      <td>100.114311</td>\n",
              "      <td>17.083540</td>\n",
              "      <td>200.872037</td>\n",
              "      <td>100.107711</td>\n",
              "      <td>9.039325</td>\n",
              "      <td>10.237294</td>\n",
              "      <td>4.479448</td>\n",
              "      <td>2.764581</td>\n",
              "      <td>1.562856</td>\n",
              "    </tr>\n",
              "    <tr>\n",
              "      <th>std</th>\n",
              "      <td>39.822106</td>\n",
              "      <td>42.371290</td>\n",
              "      <td>13.688365</td>\n",
              "      <td>54.467389</td>\n",
              "      <td>20.069084</td>\n",
              "      <td>9.259435</td>\n",
              "      <td>50.713844</td>\n",
              "      <td>19.922625</td>\n",
              "      <td>4.310668</td>\n",
              "      <td>50.573847</td>\n",
              "      <td>19.568609</td>\n",
              "      <td>2.275873</td>\n",
              "      <td>2.791840</td>\n",
              "      <td>2.461214</td>\n",
              "      <td>0.753773</td>\n",
              "      <td>1.315491</td>\n",
              "    </tr>\n",
              "    <tr>\n",
              "      <th>min</th>\n",
              "      <td>1.000000</td>\n",
              "      <td>408.000000</td>\n",
              "      <td>0.000000</td>\n",
              "      <td>0.000000</td>\n",
              "      <td>0.000000</td>\n",
              "      <td>0.000000</td>\n",
              "      <td>0.000000</td>\n",
              "      <td>0.000000</td>\n",
              "      <td>0.000000</td>\n",
              "      <td>23.200000</td>\n",
              "      <td>33.000000</td>\n",
              "      <td>1.040000</td>\n",
              "      <td>0.000000</td>\n",
              "      <td>0.000000</td>\n",
              "      <td>0.000000</td>\n",
              "      <td>0.000000</td>\n",
              "    </tr>\n",
              "    <tr>\n",
              "      <th>25%</th>\n",
              "      <td>74.000000</td>\n",
              "      <td>408.000000</td>\n",
              "      <td>0.000000</td>\n",
              "      <td>143.700000</td>\n",
              "      <td>87.000000</td>\n",
              "      <td>24.430000</td>\n",
              "      <td>166.600000</td>\n",
              "      <td>87.000000</td>\n",
              "      <td>14.160000</td>\n",
              "      <td>167.000000</td>\n",
              "      <td>87.000000</td>\n",
              "      <td>7.520000</td>\n",
              "      <td>8.500000</td>\n",
              "      <td>3.000000</td>\n",
              "      <td>2.300000</td>\n",
              "      <td>1.000000</td>\n",
              "    </tr>\n",
              "    <tr>\n",
              "      <th>50%</th>\n",
              "      <td>101.000000</td>\n",
              "      <td>415.000000</td>\n",
              "      <td>0.000000</td>\n",
              "      <td>179.400000</td>\n",
              "      <td>101.000000</td>\n",
              "      <td>30.500000</td>\n",
              "      <td>201.400000</td>\n",
              "      <td>100.000000</td>\n",
              "      <td>17.120000</td>\n",
              "      <td>201.200000</td>\n",
              "      <td>100.000000</td>\n",
              "      <td>9.050000</td>\n",
              "      <td>10.300000</td>\n",
              "      <td>4.000000</td>\n",
              "      <td>2.780000</td>\n",
              "      <td>1.000000</td>\n",
              "    </tr>\n",
              "    <tr>\n",
              "      <th>75%</th>\n",
              "      <td>127.000000</td>\n",
              "      <td>510.000000</td>\n",
              "      <td>20.000000</td>\n",
              "      <td>216.400000</td>\n",
              "      <td>114.000000</td>\n",
              "      <td>36.790000</td>\n",
              "      <td>235.300000</td>\n",
              "      <td>114.000000</td>\n",
              "      <td>20.000000</td>\n",
              "      <td>235.300000</td>\n",
              "      <td>113.000000</td>\n",
              "      <td>10.590000</td>\n",
              "      <td>12.100000</td>\n",
              "      <td>6.000000</td>\n",
              "      <td>3.270000</td>\n",
              "      <td>2.000000</td>\n",
              "    </tr>\n",
              "    <tr>\n",
              "      <th>max</th>\n",
              "      <td>243.000000</td>\n",
              "      <td>510.000000</td>\n",
              "      <td>51.000000</td>\n",
              "      <td>350.800000</td>\n",
              "      <td>165.000000</td>\n",
              "      <td>59.640000</td>\n",
              "      <td>363.700000</td>\n",
              "      <td>170.000000</td>\n",
              "      <td>30.910000</td>\n",
              "      <td>395.000000</td>\n",
              "      <td>175.000000</td>\n",
              "      <td>17.770000</td>\n",
              "      <td>20.000000</td>\n",
              "      <td>20.000000</td>\n",
              "      <td>5.400000</td>\n",
              "      <td>9.000000</td>\n",
              "    </tr>\n",
              "  </tbody>\n",
              "</table>\n",
              "</div>"
            ],
            "text/plain": [
              "       account_lengths    area_code  number_vmail_messages  total_day_mins  \\\n",
              "count      3333.000000  3333.000000            3333.000000     3333.000000   \n",
              "mean        101.064806   437.182418               8.099010      179.775098   \n",
              "std          39.822106    42.371290              13.688365       54.467389   \n",
              "min           1.000000   408.000000               0.000000        0.000000   \n",
              "25%          74.000000   408.000000               0.000000      143.700000   \n",
              "50%         101.000000   415.000000               0.000000      179.400000   \n",
              "75%         127.000000   510.000000              20.000000      216.400000   \n",
              "max         243.000000   510.000000              51.000000      350.800000   \n",
              "\n",
              "       total_day_calls  total_day_charge  total_eve_mins  total_eve_calls  \\\n",
              "count      3333.000000       3333.000000     3333.000000      3333.000000   \n",
              "mean        100.435644         30.562307      200.980348       100.114311   \n",
              "std          20.069084          9.259435       50.713844        19.922625   \n",
              "min           0.000000          0.000000        0.000000         0.000000   \n",
              "25%          87.000000         24.430000      166.600000        87.000000   \n",
              "50%         101.000000         30.500000      201.400000       100.000000   \n",
              "75%         114.000000         36.790000      235.300000       114.000000   \n",
              "max         165.000000         59.640000      363.700000       170.000000   \n",
              "\n",
              "       total_eve_charge  total_night_mins  total_night_calls  \\\n",
              "count       3333.000000       3333.000000        3333.000000   \n",
              "mean          17.083540        200.872037         100.107711   \n",
              "std            4.310668         50.573847          19.568609   \n",
              "min            0.000000         23.200000          33.000000   \n",
              "25%           14.160000        167.000000          87.000000   \n",
              "50%           17.120000        201.200000         100.000000   \n",
              "75%           20.000000        235.300000         113.000000   \n",
              "max           30.910000        395.000000         175.000000   \n",
              "\n",
              "       total_night_charge  total_intl_mins  total_intl_calls  \\\n",
              "count         3333.000000      3333.000000       3333.000000   \n",
              "mean             9.039325        10.237294          4.479448   \n",
              "std              2.275873         2.791840          2.461214   \n",
              "min              1.040000         0.000000          0.000000   \n",
              "25%              7.520000         8.500000          3.000000   \n",
              "50%              9.050000        10.300000          4.000000   \n",
              "75%             10.590000        12.100000          6.000000   \n",
              "max             17.770000        20.000000         20.000000   \n",
              "\n",
              "       total_intl_charge  cust_serv_calls  \n",
              "count        3333.000000      3333.000000  \n",
              "mean            2.764581         1.562856  \n",
              "std             0.753773         1.315491  \n",
              "min             0.000000         0.000000  \n",
              "25%             2.300000         1.000000  \n",
              "50%             2.780000         1.000000  \n",
              "75%             3.270000         2.000000  \n",
              "max             5.400000         9.000000  "
            ]
          },
          "execution_count": 16,
          "metadata": {},
          "output_type": "execute_result"
        }
      ],
      "source": [
        "df.describe()"
      ]
    },
    {
      "cell_type": "code",
      "execution_count": 17,
      "metadata": {
        "colab": {
          "base_uri": "https://localhost:8080/"
        },
        "id": "5LjwkhEVzCB4",
        "outputId": "941659f6-d033-4800-a618-dc77c0d3f549"
      },
      "outputs": [
        {
          "data": {
            "text/plain": [
              "3333"
            ]
          },
          "execution_count": 17,
          "metadata": {},
          "output_type": "execute_result"
        }
      ],
      "source": [
        "#Checking all numbers are unique\n",
        "df.phone_number.nunique()"
      ]
    },
    {
      "cell_type": "markdown",
      "metadata": {
        "id": "iDhc4lXt1DiE"
      },
      "source": [
        "# **Exploratory Data Analysis**"
      ]
    },
    {
      "cell_type": "markdown",
      "metadata": {},
      "source": [
        "## Length of customer accounts"
      ]
    },
    {
      "cell_type": "markdown",
      "metadata": {},
      "source": [
        "Checking the length of customers accounts, finding the average length and percentage of customers that stay above that average amount of time."
      ]
    },
    {
      "cell_type": "code",
      "execution_count": 18,
      "metadata": {
        "colab": {
          "base_uri": "https://localhost:8080/"
        },
        "id": "eeeezcoG1Huq",
        "outputId": "7f1de7b7-32c9-4fb6-bbcc-383a2f2866cb"
      },
      "outputs": [
        {
          "data": {
            "text/plain": [
              "101.06480648064806"
            ]
          },
          "execution_count": 18,
          "metadata": {},
          "output_type": "execute_result"
        }
      ],
      "source": [
        "#Checking average lenth of accounts\n",
        "average_duration = df.account_lengths.mean()\n",
        "average_duration"
      ]
    },
    {
      "cell_type": "code",
      "execution_count": 19,
      "metadata": {
        "colab": {
          "base_uri": "https://localhost:8080/"
        },
        "id": "d8nUlh_56RYF",
        "outputId": "6c0a1f3a-437c-432d-8c15-ea22f4a8254f"
      },
      "outputs": [
        {
          "name": "stdout",
          "output_type": "stream",
          "text": [
            "Most customers accounts are active for 101.06480648064806 months which is equal to 8.4 years.\n"
          ]
        }
      ],
      "source": [
        "#Coverting average length of accounts mean from months to years\n",
        "num_years = average_duration / 12\n",
        "num_years_rounded = round(num_years,1)\n",
        "print(f\"Most customers accounts are active for {average_duration} months which is equal to {num_years_rounded} years.\")"
      ]
    },
    {
      "cell_type": "code",
      "execution_count": 20,
      "metadata": {
        "id": "NZwiXrYH1HnH"
      },
      "outputs": [
        {
          "name": "stdout",
          "output_type": "stream",
          "text": [
            "Percentage of customers with above 101.06480648064806 active months: 48.87%\n"
          ]
        }
      ],
      "source": [
        "# Checking percentage of customers above the average length of accounts mean\n",
        "threshold_active_months = average_duration\n",
        "\n",
        "# Creating a new column 'above_threshold' with customer with accounts active months the mean duration\n",
        "df['above_threshold'] = df['account_lengths'] > threshold_active_months\n",
        "\n",
        "# Count the number of customers above the threshold\n",
        "above_threshold_count = df['above_threshold'].sum()\n",
        "\n",
        "# Calculate the total number of customers\n",
        "total_customers = len(df)\n",
        "\n",
        "# Calculate the percentage\n",
        "percentage_above_threshold = (above_threshold_count / total_customers) * 100\n",
        "\n",
        "print(f\"Percentage of customers with above {threshold_active_months} active months: {percentage_above_threshold:.2f}%\")"
      ]
    },
    {
      "cell_type": "markdown",
      "metadata": {},
      "source": [
        "## Feature Engineering : Cummulative Daily Charges"
      ]
    },
    {
      "cell_type": "markdown",
      "metadata": {},
      "source": [
        "Engineering a new feature column called Cummulative Daily Charge. It shows the sumof all charges incured by a customer daily."
      ]
    },
    {
      "cell_type": "code",
      "execution_count": 21,
      "metadata": {
        "id": "TRlXMUqT1HkJ"
      },
      "outputs": [
        {
          "data": {
            "text/plain": [
              "count    3333.000000\n",
              "mean       59.449754\n",
              "std        10.502261\n",
              "min        22.930000\n",
              "25%        52.380000\n",
              "50%        59.470000\n",
              "75%        66.480000\n",
              "max        96.150000\n",
              "Name: cumm_daily_charge, dtype: float64"
            ]
          },
          "execution_count": 21,
          "metadata": {},
          "output_type": "execute_result"
        }
      ],
      "source": [
        "#Engineering a new feature column called Monthly Charge\n",
        "df['cumm_daily_charge'] = (df['total_day_charge'] + df['total_eve_charge'] +\n",
        "                         df['total_night_charge'] + df['total_intl_charge'])\n",
        "\n",
        "\n",
        "df.cumm_daily_charge.describe()"
      ]
    },
    {
      "cell_type": "code",
      "execution_count": 22,
      "metadata": {
        "id": "ehWUcQPA1Hht"
      },
      "outputs": [
        {
          "name": "stdout",
          "output_type": "stream",
          "text": [
            "On average, customers spend a total of: 59.45 per day\n"
          ]
        }
      ],
      "source": [
        "mean_value = df['cumm_daily_charge'].mean()\n",
        "mean_value_rounded = round (mean_value,2)\n",
        "print(f\"On average, customers spend a total of: {mean_value_rounded} per day\")"
      ]
    },
    {
      "cell_type": "markdown",
      "metadata": {
        "id": "hJow22A31Hb9"
      },
      "source": [
        "## Customer Churn Rate"
      ]
    },
    {
      "cell_type": "markdown",
      "metadata": {},
      "source": [
        "Calculating the percentage of your customers or subscribers who cancel or don't renew their subscriptions "
      ]
    },
    {
      "cell_type": "code",
      "execution_count": 23,
      "metadata": {},
      "outputs": [
        {
          "data": {
            "text/plain": [
              "False    2850\n",
              "True      483\n",
              "Name: churn, dtype: int64"
            ]
          },
          "execution_count": 23,
          "metadata": {},
          "output_type": "execute_result"
        }
      ],
      "source": [
        "df.churn.value_counts()"
      ]
    },
    {
      "cell_type": "code",
      "execution_count": 24,
      "metadata": {},
      "outputs": [
        {
          "name": "stdout",
          "output_type": "stream",
          "text": [
            "Churn Rate: 14.491449144914492%\n"
          ]
        }
      ],
      "source": [
        "# Calculating Churn Rate\n",
        "total_churn_entries = len(df['churn'])\n",
        "true_churned_entries = 483\n",
        "\n",
        "churn_rate = (true_churned_entries / total_churn_entries)*100\n",
        "\n",
        "print(f\"Churn Rate: {churn_rate}%\")"
      ]
    },
    {
      "cell_type": "code",
      "execution_count": 25,
      "metadata": {},
      "outputs": [
        {
          "data": {
            "text/html": [
              "<div>\n",
              "<style scoped>\n",
              "    .dataframe tbody tr th:only-of-type {\n",
              "        vertical-align: middle;\n",
              "    }\n",
              "\n",
              "    .dataframe tbody tr th {\n",
              "        vertical-align: top;\n",
              "    }\n",
              "\n",
              "    .dataframe thead th {\n",
              "        text-align: right;\n",
              "    }\n",
              "</style>\n",
              "<table border=\"1\" class=\"dataframe\">\n",
              "  <thead>\n",
              "    <tr style=\"text-align: right;\">\n",
              "      <th></th>\n",
              "      <th>churn</th>\n",
              "    </tr>\n",
              "  </thead>\n",
              "  <tbody>\n",
              "    <tr>\n",
              "      <th>False</th>\n",
              "      <td>0.855086</td>\n",
              "    </tr>\n",
              "    <tr>\n",
              "      <th>True</th>\n",
              "      <td>0.144914</td>\n",
              "    </tr>\n",
              "  </tbody>\n",
              "</table>\n",
              "</div>"
            ],
            "text/plain": [
              "          churn\n",
              "False  0.855086\n",
              "True   0.144914"
            ]
          },
          "execution_count": 25,
          "metadata": {},
          "output_type": "execute_result"
        }
      ],
      "source": [
        "churn_percentages = pd.DataFrame(df.churn.value_counts()/len(df.churn))\n",
        "churn_percentages \n"
      ]
    },
    {
      "cell_type": "code",
      "execution_count": 26,
      "metadata": {},
      "outputs": [
        {
          "data": {
            "image/png": "[encoded data removed]",
            "text/plain": [
              "<Figure size 1080x576 with 1 Axes>"
            ]
          },
          "metadata": {
            "needs_background": "light"
          },
          "output_type": "display_data"
        }
      ],
      "source": [
        "# Visualizing the churn rate\n",
        "\n",
        "fig, ax = plt.subplots(figsize=(15,8))\n",
        "sns.barplot(x = [0, 1], y = 'churn', data = churn_percentages, ax = ax)\n",
        "plt.title('Percentage of Customer Churn', fontsize = 25)\n",
        "ax.tick_params(axis = 'both', labelsize = 15)\n",
        "plt.xlabel('Churn', fontsize = 20)\n",
        "plt.ylabel('Churn Rate', fontsize = 20)\n",
        "ax.set_xticklabels(['No Churn', 'Churn'])\n",
        "plt.tight_layout()"
      ]
    },
    {
      "cell_type": "markdown",
      "metadata": {},
      "source": [
        "## Churn by Area Code"
      ]
    },
    {
      "cell_type": "markdown",
      "metadata": {},
      "source": [
        "Checking if there is significant churn within a particular area code"
      ]
    },
    {
      "cell_type": "code",
      "execution_count": 27,
      "metadata": {},
      "outputs": [
        {
          "data": {
            "text/html": [
              "<div>\n",
              "<style scoped>\n",
              "    .dataframe tbody tr th:only-of-type {\n",
              "        vertical-align: middle;\n",
              "    }\n",
              "\n",
              "    .dataframe tbody tr th {\n",
              "        vertical-align: top;\n",
              "    }\n",
              "\n",
              "    .dataframe thead th {\n",
              "        text-align: right;\n",
              "    }\n",
              "</style>\n",
              "<table border=\"1\" class=\"dataframe\">\n",
              "  <thead>\n",
              "    <tr style=\"text-align: right;\">\n",
              "      <th></th>\n",
              "      <th>state</th>\n",
              "      <th>account_lengths</th>\n",
              "      <th>area_code</th>\n",
              "      <th>phone_number</th>\n",
              "      <th>intl_plan</th>\n",
              "      <th>vmail_plan</th>\n",
              "      <th>number_vmail_messages</th>\n",
              "      <th>total_day_mins</th>\n",
              "      <th>total_day_calls</th>\n",
              "      <th>total_day_charge</th>\n",
              "      <th>...</th>\n",
              "      <th>total_night_mins</th>\n",
              "      <th>total_night_calls</th>\n",
              "      <th>total_night_charge</th>\n",
              "      <th>total_intl_mins</th>\n",
              "      <th>total_intl_calls</th>\n",
              "      <th>total_intl_charge</th>\n",
              "      <th>cust_serv_calls</th>\n",
              "      <th>churn</th>\n",
              "      <th>above_threshold</th>\n",
              "      <th>cumm_daily_charge</th>\n",
              "    </tr>\n",
              "  </thead>\n",
              "  <tbody>\n",
              "    <tr>\n",
              "      <th>0</th>\n",
              "      <td>KS</td>\n",
              "      <td>128</td>\n",
              "      <td>415</td>\n",
              "      <td>382-4657</td>\n",
              "      <td>no</td>\n",
              "      <td>yes</td>\n",
              "      <td>25</td>\n",
              "      <td>265.1</td>\n",
              "      <td>110</td>\n",
              "      <td>45.07</td>\n",
              "      <td>...</td>\n",
              "      <td>244.7</td>\n",
              "      <td>91</td>\n",
              "      <td>11.01</td>\n",
              "      <td>10.0</td>\n",
              "      <td>3</td>\n",
              "      <td>2.70</td>\n",
              "      <td>1</td>\n",
              "      <td>False</td>\n",
              "      <td>True</td>\n",
              "      <td>75.56</td>\n",
              "    </tr>\n",
              "    <tr>\n",
              "      <th>1</th>\n",
              "      <td>OH</td>\n",
              "      <td>107</td>\n",
              "      <td>415</td>\n",
              "      <td>371-7191</td>\n",
              "      <td>no</td>\n",
              "      <td>yes</td>\n",
              "      <td>26</td>\n",
              "      <td>161.6</td>\n",
              "      <td>123</td>\n",
              "      <td>27.47</td>\n",
              "      <td>...</td>\n",
              "      <td>254.4</td>\n",
              "      <td>103</td>\n",
              "      <td>11.45</td>\n",
              "      <td>13.7</td>\n",
              "      <td>3</td>\n",
              "      <td>3.70</td>\n",
              "      <td>1</td>\n",
              "      <td>False</td>\n",
              "      <td>True</td>\n",
              "      <td>59.24</td>\n",
              "    </tr>\n",
              "    <tr>\n",
              "      <th>2</th>\n",
              "      <td>NJ</td>\n",
              "      <td>137</td>\n",
              "      <td>415</td>\n",
              "      <td>358-1921</td>\n",
              "      <td>no</td>\n",
              "      <td>no</td>\n",
              "      <td>0</td>\n",
              "      <td>243.4</td>\n",
              "      <td>114</td>\n",
              "      <td>41.38</td>\n",
              "      <td>...</td>\n",
              "      <td>162.6</td>\n",
              "      <td>104</td>\n",
              "      <td>7.32</td>\n",
              "      <td>12.2</td>\n",
              "      <td>5</td>\n",
              "      <td>3.29</td>\n",
              "      <td>0</td>\n",
              "      <td>False</td>\n",
              "      <td>True</td>\n",
              "      <td>62.29</td>\n",
              "    </tr>\n",
              "    <tr>\n",
              "      <th>3</th>\n",
              "      <td>OH</td>\n",
              "      <td>84</td>\n",
              "      <td>408</td>\n",
              "      <td>375-9999</td>\n",
              "      <td>yes</td>\n",
              "      <td>no</td>\n",
              "      <td>0</td>\n",
              "      <td>299.4</td>\n",
              "      <td>71</td>\n",
              "      <td>50.90</td>\n",
              "      <td>...</td>\n",
              "      <td>196.9</td>\n",
              "      <td>89</td>\n",
              "      <td>8.86</td>\n",
              "      <td>6.6</td>\n",
              "      <td>7</td>\n",
              "      <td>1.78</td>\n",
              "      <td>2</td>\n",
              "      <td>False</td>\n",
              "      <td>False</td>\n",
              "      <td>66.80</td>\n",
              "    </tr>\n",
              "    <tr>\n",
              "      <th>4</th>\n",
              "      <td>OK</td>\n",
              "      <td>75</td>\n",
              "      <td>415</td>\n",
              "      <td>330-6626</td>\n",
              "      <td>yes</td>\n",
              "      <td>no</td>\n",
              "      <td>0</td>\n",
              "      <td>166.7</td>\n",
              "      <td>113</td>\n",
              "      <td>28.34</td>\n",
              "      <td>...</td>\n",
              "      <td>186.9</td>\n",
              "      <td>121</td>\n",
              "      <td>8.41</td>\n",
              "      <td>10.1</td>\n",
              "      <td>3</td>\n",
              "      <td>2.73</td>\n",
              "      <td>3</td>\n",
              "      <td>False</td>\n",
              "      <td>False</td>\n",
              "      <td>52.09</td>\n",
              "    </tr>\n",
              "  </tbody>\n",
              "</table>\n",
              "<p>5 rows × 23 columns</p>\n",
              "</div>"
            ],
            "text/plain": [
              "  state  account_lengths  area_code phone_number intl_plan vmail_plan  \\\n",
              "0    KS              128        415     382-4657        no        yes   \n",
              "1    OH              107        415     371-7191        no        yes   \n",
              "2    NJ              137        415     358-1921        no         no   \n",
              "3    OH               84        408     375-9999       yes         no   \n",
              "4    OK               75        415     330-6626       yes         no   \n",
              "\n",
              "   number_vmail_messages  total_day_mins  total_day_calls  total_day_charge  \\\n",
              "0                     25           265.1              110             45.07   \n",
              "1                     26           161.6              123             27.47   \n",
              "2                      0           243.4              114             41.38   \n",
              "3                      0           299.4               71             50.90   \n",
              "4                      0           166.7              113             28.34   \n",
              "\n",
              "   ...  total_night_mins  total_night_calls  total_night_charge  \\\n",
              "0  ...             244.7                 91               11.01   \n",
              "1  ...             254.4                103               11.45   \n",
              "2  ...             162.6                104                7.32   \n",
              "3  ...             196.9                 89                8.86   \n",
              "4  ...             186.9                121                8.41   \n",
              "\n",
              "   total_intl_mins  total_intl_calls  total_intl_charge  cust_serv_calls  \\\n",
              "0             10.0                 3               2.70                1   \n",
              "1             13.7                 3               3.70                1   \n",
              "2             12.2                 5               3.29                0   \n",
              "3              6.6                 7               1.78                2   \n",
              "4             10.1                 3               2.73                3   \n",
              "\n",
              "   churn  above_threshold  cumm_daily_charge  \n",
              "0  False             True              75.56  \n",
              "1  False             True              59.24  \n",
              "2  False             True              62.29  \n",
              "3  False            False              66.80  \n",
              "4  False            False              52.09  \n",
              "\n",
              "[5 rows x 23 columns]"
            ]
          },
          "execution_count": 27,
          "metadata": {},
          "output_type": "execute_result"
        }
      ],
      "source": [
        "df.head()"
      ]
    },
    {
      "cell_type": "code",
      "execution_count": 28,
      "metadata": {},
      "outputs": [
        {
          "data": {
            "text/plain": [
              "array([415, 408, 510], dtype=int64)"
            ]
          },
          "execution_count": 28,
          "metadata": {},
          "output_type": "execute_result"
        }
      ],
      "source": [
        "df['area_code'].unique()"
      ]
    },
    {
      "cell_type": "code",
      "execution_count": 29,
      "metadata": {},
      "outputs": [
        {
          "name": "stdout",
          "output_type": "stream",
          "text": [
            "area_code\n",
            "408    0.145585\n",
            "415    0.142598\n",
            "510    0.148810\n",
            "Name: churn, dtype: float64\n"
          ]
        },
        {
          "data": {
            "image/png": "[encoded data removed]",
            "text/plain": [
              "<Figure size 1080x576 with 1 Axes>"
            ]
          },
          "metadata": {
            "needs_background": "light"
          },
          "output_type": "display_data"
        }
      ],
      "source": [
        "# percentage of churn by area code\n",
        "print(df.groupby([\"area_code\"])['churn'].mean())\n",
        "\n",
        "fig, ax = plt.subplots(figsize = (15, 8))\n",
        "df.groupby(['area_code', 'churn']).size().unstack().plot(kind='bar', stacked=True, ax = ax);\n",
        "plt.title('Number of Customers per Area Code - Split by Churn', fontsize = 25)\n",
        "ax.tick_params(axis = 'both', labelsize = 15)\n",
        "plt.xlabel('Area Code', fontsize = 20)\n",
        "plt.ylabel('Number of Customers', fontsize = 20)\n",
        "plt.tight_layout()\n"
      ]
    },
    {
      "cell_type": "markdown",
      "metadata": {},
      "source": [
        "Area code 415 has the highest number of customers but it maintains the same churn rate. The Churn rate is confirmed again to be around 14%. It is the same rate in all 3 area codes, due to this, we will drop the column in the modelling section.  "
      ]
    },
    {
      "cell_type": "code",
      "execution_count": 30,
      "metadata": {},
      "outputs": [
        {
          "data": {
            "text/plain": [
              "WV    106\n",
              "MN     84\n",
              "NY     83\n",
              "AL     80\n",
              "OR     78\n",
              "OH     78\n",
              "WI     78\n",
              "WY     77\n",
              "VA     77\n",
              "CT     74\n",
              "MI     73\n",
              "ID     73\n",
              "VT     73\n",
              "TX     72\n",
              "UT     72\n",
              "IN     71\n",
              "KS     70\n",
              "MD     70\n",
              "NJ     68\n",
              "NC     68\n",
              "MT     68\n",
              "CO     66\n",
              "NV     66\n",
              "WA     66\n",
              "MS     65\n",
              "MA     65\n",
              "RI     65\n",
              "AZ     64\n",
              "MO     63\n",
              "FL     63\n",
              "ME     62\n",
              "NM     62\n",
              "ND     62\n",
              "OK     61\n",
              "DE     61\n",
              "NE     61\n",
              "SD     60\n",
              "SC     60\n",
              "KY     59\n",
              "IL     58\n",
              "NH     56\n",
              "AR     55\n",
              "GA     54\n",
              "DC     54\n",
              "HI     53\n",
              "TN     53\n",
              "AK     52\n",
              "LA     51\n",
              "PA     45\n",
              "IA     44\n",
              "CA     34\n",
              "Name: state, dtype: int64"
            ]
          },
          "execution_count": 30,
          "metadata": {},
          "output_type": "execute_result"
        }
      ],
      "source": [
        "# Checking unique values in states\n",
        "df['state'].value_counts()"
      ]
    },
    {
      "cell_type": "markdown",
      "metadata": {},
      "source": [
        "# **Modelling**"
      ]
    },
    {
      "cell_type": "markdown",
      "metadata": {},
      "source": [
        "- The first model will be a simple baseline <br>\n",
        "- Feature selction will then be done and the highlighted features will undergo an Exploratory Data Analysis to gain insights on how they relate with customer churn.<br>\n",
        "- The models after this will be tuned sequentially until an model with optimum performance is reached. "
      ]
    },
    {
      "cell_type": "code",
      "execution_count": 31,
      "metadata": {},
      "outputs": [
        {
          "data": {
            "text/html": [
              "<div>\n",
              "<style scoped>\n",
              "    .dataframe tbody tr th:only-of-type {\n",
              "        vertical-align: middle;\n",
              "    }\n",
              "\n",
              "    .dataframe tbody tr th {\n",
              "        vertical-align: top;\n",
              "    }\n",
              "\n",
              "    .dataframe thead th {\n",
              "        text-align: right;\n",
              "    }\n",
              "</style>\n",
              "<table border=\"1\" class=\"dataframe\">\n",
              "  <thead>\n",
              "    <tr style=\"text-align: right;\">\n",
              "      <th></th>\n",
              "      <th>state</th>\n",
              "      <th>account_lengths</th>\n",
              "      <th>area_code</th>\n",
              "      <th>phone_number</th>\n",
              "      <th>intl_plan</th>\n",
              "      <th>vmail_plan</th>\n",
              "      <th>number_vmail_messages</th>\n",
              "      <th>total_day_mins</th>\n",
              "      <th>total_day_calls</th>\n",
              "      <th>total_day_charge</th>\n",
              "      <th>...</th>\n",
              "      <th>total_night_mins</th>\n",
              "      <th>total_night_calls</th>\n",
              "      <th>total_night_charge</th>\n",
              "      <th>total_intl_mins</th>\n",
              "      <th>total_intl_calls</th>\n",
              "      <th>total_intl_charge</th>\n",
              "      <th>cust_serv_calls</th>\n",
              "      <th>churn</th>\n",
              "      <th>above_threshold</th>\n",
              "      <th>cumm_daily_charge</th>\n",
              "    </tr>\n",
              "  </thead>\n",
              "  <tbody>\n",
              "    <tr>\n",
              "      <th>0</th>\n",
              "      <td>KS</td>\n",
              "      <td>128</td>\n",
              "      <td>415</td>\n",
              "      <td>382-4657</td>\n",
              "      <td>no</td>\n",
              "      <td>yes</td>\n",
              "      <td>25</td>\n",
              "      <td>265.1</td>\n",
              "      <td>110</td>\n",
              "      <td>45.07</td>\n",
              "      <td>...</td>\n",
              "      <td>244.7</td>\n",
              "      <td>91</td>\n",
              "      <td>11.01</td>\n",
              "      <td>10.0</td>\n",
              "      <td>3</td>\n",
              "      <td>2.70</td>\n",
              "      <td>1</td>\n",
              "      <td>False</td>\n",
              "      <td>True</td>\n",
              "      <td>75.56</td>\n",
              "    </tr>\n",
              "    <tr>\n",
              "      <th>1</th>\n",
              "      <td>OH</td>\n",
              "      <td>107</td>\n",
              "      <td>415</td>\n",
              "      <td>371-7191</td>\n",
              "      <td>no</td>\n",
              "      <td>yes</td>\n",
              "      <td>26</td>\n",
              "      <td>161.6</td>\n",
              "      <td>123</td>\n",
              "      <td>27.47</td>\n",
              "      <td>...</td>\n",
              "      <td>254.4</td>\n",
              "      <td>103</td>\n",
              "      <td>11.45</td>\n",
              "      <td>13.7</td>\n",
              "      <td>3</td>\n",
              "      <td>3.70</td>\n",
              "      <td>1</td>\n",
              "      <td>False</td>\n",
              "      <td>True</td>\n",
              "      <td>59.24</td>\n",
              "    </tr>\n",
              "    <tr>\n",
              "      <th>2</th>\n",
              "      <td>NJ</td>\n",
              "      <td>137</td>\n",
              "      <td>415</td>\n",
              "      <td>358-1921</td>\n",
              "      <td>no</td>\n",
              "      <td>no</td>\n",
              "      <td>0</td>\n",
              "      <td>243.4</td>\n",
              "      <td>114</td>\n",
              "      <td>41.38</td>\n",
              "      <td>...</td>\n",
              "      <td>162.6</td>\n",
              "      <td>104</td>\n",
              "      <td>7.32</td>\n",
              "      <td>12.2</td>\n",
              "      <td>5</td>\n",
              "      <td>3.29</td>\n",
              "      <td>0</td>\n",
              "      <td>False</td>\n",
              "      <td>True</td>\n",
              "      <td>62.29</td>\n",
              "    </tr>\n",
              "    <tr>\n",
              "      <th>3</th>\n",
              "      <td>OH</td>\n",
              "      <td>84</td>\n",
              "      <td>408</td>\n",
              "      <td>375-9999</td>\n",
              "      <td>yes</td>\n",
              "      <td>no</td>\n",
              "      <td>0</td>\n",
              "      <td>299.4</td>\n",
              "      <td>71</td>\n",
              "      <td>50.90</td>\n",
              "      <td>...</td>\n",
              "      <td>196.9</td>\n",
              "      <td>89</td>\n",
              "      <td>8.86</td>\n",
              "      <td>6.6</td>\n",
              "      <td>7</td>\n",
              "      <td>1.78</td>\n",
              "      <td>2</td>\n",
              "      <td>False</td>\n",
              "      <td>False</td>\n",
              "      <td>66.80</td>\n",
              "    </tr>\n",
              "    <tr>\n",
              "      <th>4</th>\n",
              "      <td>OK</td>\n",
              "      <td>75</td>\n",
              "      <td>415</td>\n",
              "      <td>330-6626</td>\n",
              "      <td>yes</td>\n",
              "      <td>no</td>\n",
              "      <td>0</td>\n",
              "      <td>166.7</td>\n",
              "      <td>113</td>\n",
              "      <td>28.34</td>\n",
              "      <td>...</td>\n",
              "      <td>186.9</td>\n",
              "      <td>121</td>\n",
              "      <td>8.41</td>\n",
              "      <td>10.1</td>\n",
              "      <td>3</td>\n",
              "      <td>2.73</td>\n",
              "      <td>3</td>\n",
              "      <td>False</td>\n",
              "      <td>False</td>\n",
              "      <td>52.09</td>\n",
              "    </tr>\n",
              "  </tbody>\n",
              "</table>\n",
              "<p>5 rows × 23 columns</p>\n",
              "</div>"
            ],
            "text/plain": [
              "  state  account_lengths  area_code phone_number intl_plan vmail_plan  \\\n",
              "0    KS              128        415     382-4657        no        yes   \n",
              "1    OH              107        415     371-7191        no        yes   \n",
              "2    NJ              137        415     358-1921        no         no   \n",
              "3    OH               84        408     375-9999       yes         no   \n",
              "4    OK               75        415     330-6626       yes         no   \n",
              "\n",
              "   number_vmail_messages  total_day_mins  total_day_calls  total_day_charge  \\\n",
              "0                     25           265.1              110             45.07   \n",
              "1                     26           161.6              123             27.47   \n",
              "2                      0           243.4              114             41.38   \n",
              "3                      0           299.4               71             50.90   \n",
              "4                      0           166.7              113             28.34   \n",
              "\n",
              "   ...  total_night_mins  total_night_calls  total_night_charge  \\\n",
              "0  ...             244.7                 91               11.01   \n",
              "1  ...             254.4                103               11.45   \n",
              "2  ...             162.6                104                7.32   \n",
              "3  ...             196.9                 89                8.86   \n",
              "4  ...             186.9                121                8.41   \n",
              "\n",
              "   total_intl_mins  total_intl_calls  total_intl_charge  cust_serv_calls  \\\n",
              "0             10.0                 3               2.70                1   \n",
              "1             13.7                 3               3.70                1   \n",
              "2             12.2                 5               3.29                0   \n",
              "3              6.6                 7               1.78                2   \n",
              "4             10.1                 3               2.73                3   \n",
              "\n",
              "   churn  above_threshold  cumm_daily_charge  \n",
              "0  False             True              75.56  \n",
              "1  False             True              59.24  \n",
              "2  False             True              62.29  \n",
              "3  False            False              66.80  \n",
              "4  False            False              52.09  \n",
              "\n",
              "[5 rows x 23 columns]"
            ]
          },
          "execution_count": 31,
          "metadata": {},
          "output_type": "execute_result"
        }
      ],
      "source": [
        "df.head()"
      ]
    },
    {
      "cell_type": "code",
      "execution_count": 32,
      "metadata": {},
      "outputs": [
        {
          "data": {
            "text/html": [
              "<div>\n",
              "<style scoped>\n",
              "    .dataframe tbody tr th:only-of-type {\n",
              "        vertical-align: middle;\n",
              "    }\n",
              "\n",
              "    .dataframe tbody tr th {\n",
              "        vertical-align: top;\n",
              "    }\n",
              "\n",
              "    .dataframe thead th {\n",
              "        text-align: right;\n",
              "    }\n",
              "</style>\n",
              "<table border=\"1\" class=\"dataframe\">\n",
              "  <thead>\n",
              "    <tr style=\"text-align: right;\">\n",
              "      <th></th>\n",
              "      <th>state</th>\n",
              "      <th>account_lengths</th>\n",
              "      <th>area_code</th>\n",
              "      <th>phone_number</th>\n",
              "      <th>intl_plan</th>\n",
              "      <th>vmail_plan</th>\n",
              "      <th>number_vmail_messages</th>\n",
              "      <th>total_day_mins</th>\n",
              "      <th>total_day_calls</th>\n",
              "      <th>total_day_charge</th>\n",
              "      <th>...</th>\n",
              "      <th>total_night_mins</th>\n",
              "      <th>total_night_calls</th>\n",
              "      <th>total_night_charge</th>\n",
              "      <th>total_intl_mins</th>\n",
              "      <th>total_intl_calls</th>\n",
              "      <th>total_intl_charge</th>\n",
              "      <th>cust_serv_calls</th>\n",
              "      <th>churn</th>\n",
              "      <th>above_threshold</th>\n",
              "      <th>cumm_daily_charge</th>\n",
              "    </tr>\n",
              "  </thead>\n",
              "  <tbody>\n",
              "    <tr>\n",
              "      <th>0</th>\n",
              "      <td>KS</td>\n",
              "      <td>128</td>\n",
              "      <td>415</td>\n",
              "      <td>382-4657</td>\n",
              "      <td>no</td>\n",
              "      <td>yes</td>\n",
              "      <td>25</td>\n",
              "      <td>265.1</td>\n",
              "      <td>110</td>\n",
              "      <td>45.07</td>\n",
              "      <td>...</td>\n",
              "      <td>244.7</td>\n",
              "      <td>91</td>\n",
              "      <td>11.01</td>\n",
              "      <td>10.0</td>\n",
              "      <td>3</td>\n",
              "      <td>2.70</td>\n",
              "      <td>1</td>\n",
              "      <td>False</td>\n",
              "      <td>True</td>\n",
              "      <td>75.56</td>\n",
              "    </tr>\n",
              "    <tr>\n",
              "      <th>1</th>\n",
              "      <td>OH</td>\n",
              "      <td>107</td>\n",
              "      <td>415</td>\n",
              "      <td>371-7191</td>\n",
              "      <td>no</td>\n",
              "      <td>yes</td>\n",
              "      <td>26</td>\n",
              "      <td>161.6</td>\n",
              "      <td>123</td>\n",
              "      <td>27.47</td>\n",
              "      <td>...</td>\n",
              "      <td>254.4</td>\n",
              "      <td>103</td>\n",
              "      <td>11.45</td>\n",
              "      <td>13.7</td>\n",
              "      <td>3</td>\n",
              "      <td>3.70</td>\n",
              "      <td>1</td>\n",
              "      <td>False</td>\n",
              "      <td>True</td>\n",
              "      <td>59.24</td>\n",
              "    </tr>\n",
              "    <tr>\n",
              "      <th>2</th>\n",
              "      <td>NJ</td>\n",
              "      <td>137</td>\n",
              "      <td>415</td>\n",
              "      <td>358-1921</td>\n",
              "      <td>no</td>\n",
              "      <td>no</td>\n",
              "      <td>0</td>\n",
              "      <td>243.4</td>\n",
              "      <td>114</td>\n",
              "      <td>41.38</td>\n",
              "      <td>...</td>\n",
              "      <td>162.6</td>\n",
              "      <td>104</td>\n",
              "      <td>7.32</td>\n",
              "      <td>12.2</td>\n",
              "      <td>5</td>\n",
              "      <td>3.29</td>\n",
              "      <td>0</td>\n",
              "      <td>False</td>\n",
              "      <td>True</td>\n",
              "      <td>62.29</td>\n",
              "    </tr>\n",
              "    <tr>\n",
              "      <th>3</th>\n",
              "      <td>OH</td>\n",
              "      <td>84</td>\n",
              "      <td>408</td>\n",
              "      <td>375-9999</td>\n",
              "      <td>yes</td>\n",
              "      <td>no</td>\n",
              "      <td>0</td>\n",
              "      <td>299.4</td>\n",
              "      <td>71</td>\n",
              "      <td>50.90</td>\n",
              "      <td>...</td>\n",
              "      <td>196.9</td>\n",
              "      <td>89</td>\n",
              "      <td>8.86</td>\n",
              "      <td>6.6</td>\n",
              "      <td>7</td>\n",
              "      <td>1.78</td>\n",
              "      <td>2</td>\n",
              "      <td>False</td>\n",
              "      <td>False</td>\n",
              "      <td>66.80</td>\n",
              "    </tr>\n",
              "    <tr>\n",
              "      <th>4</th>\n",
              "      <td>OK</td>\n",
              "      <td>75</td>\n",
              "      <td>415</td>\n",
              "      <td>330-6626</td>\n",
              "      <td>yes</td>\n",
              "      <td>no</td>\n",
              "      <td>0</td>\n",
              "      <td>166.7</td>\n",
              "      <td>113</td>\n",
              "      <td>28.34</td>\n",
              "      <td>...</td>\n",
              "      <td>186.9</td>\n",
              "      <td>121</td>\n",
              "      <td>8.41</td>\n",
              "      <td>10.1</td>\n",
              "      <td>3</td>\n",
              "      <td>2.73</td>\n",
              "      <td>3</td>\n",
              "      <td>False</td>\n",
              "      <td>False</td>\n",
              "      <td>52.09</td>\n",
              "    </tr>\n",
              "  </tbody>\n",
              "</table>\n",
              "<p>5 rows × 23 columns</p>\n",
              "</div>"
            ],
            "text/plain": [
              "  state  account_lengths  area_code phone_number intl_plan vmail_plan  \\\n",
              "0    KS              128        415     382-4657        no        yes   \n",
              "1    OH              107        415     371-7191        no        yes   \n",
              "2    NJ              137        415     358-1921        no         no   \n",
              "3    OH               84        408     375-9999       yes         no   \n",
              "4    OK               75        415     330-6626       yes         no   \n",
              "\n",
              "   number_vmail_messages  total_day_mins  total_day_calls  total_day_charge  \\\n",
              "0                     25           265.1              110             45.07   \n",
              "1                     26           161.6              123             27.47   \n",
              "2                      0           243.4              114             41.38   \n",
              "3                      0           299.4               71             50.90   \n",
              "4                      0           166.7              113             28.34   \n",
              "\n",
              "   ...  total_night_mins  total_night_calls  total_night_charge  \\\n",
              "0  ...             244.7                 91               11.01   \n",
              "1  ...             254.4                103               11.45   \n",
              "2  ...             162.6                104                7.32   \n",
              "3  ...             196.9                 89                8.86   \n",
              "4  ...             186.9                121                8.41   \n",
              "\n",
              "   total_intl_mins  total_intl_calls  total_intl_charge  cust_serv_calls  \\\n",
              "0             10.0                 3               2.70                1   \n",
              "1             13.7                 3               3.70                1   \n",
              "2             12.2                 5               3.29                0   \n",
              "3              6.6                 7               1.78                2   \n",
              "4             10.1                 3               2.73                3   \n",
              "\n",
              "   churn  above_threshold  cumm_daily_charge  \n",
              "0  False             True              75.56  \n",
              "1  False             True              59.24  \n",
              "2  False             True              62.29  \n",
              "3  False            False              66.80  \n",
              "4  False            False              52.09  \n",
              "\n",
              "[5 rows x 23 columns]"
            ]
          },
          "execution_count": 32,
          "metadata": {},
          "output_type": "execute_result"
        }
      ],
      "source": [
        "# Making a copy of the data frame \n",
        "copydf = df.copy()\n",
        "copydf.head()"
      ]
    },
    {
      "cell_type": "code",
      "execution_count": 33,
      "metadata": {},
      "outputs": [
        {
          "data": {
            "text/html": [
              "<div>\n",
              "<style scoped>\n",
              "    .dataframe tbody tr th:only-of-type {\n",
              "        vertical-align: middle;\n",
              "    }\n",
              "\n",
              "    .dataframe tbody tr th {\n",
              "        vertical-align: top;\n",
              "    }\n",
              "\n",
              "    .dataframe thead th {\n",
              "        text-align: right;\n",
              "    }\n",
              "</style>\n",
              "<table border=\"1\" class=\"dataframe\">\n",
              "  <thead>\n",
              "    <tr style=\"text-align: right;\">\n",
              "      <th></th>\n",
              "      <th>state</th>\n",
              "      <th>account_lengths</th>\n",
              "      <th>phone_number</th>\n",
              "      <th>intl_plan</th>\n",
              "      <th>vmail_plan</th>\n",
              "      <th>number_vmail_messages</th>\n",
              "      <th>total_day_mins</th>\n",
              "      <th>total_day_calls</th>\n",
              "      <th>total_day_charge</th>\n",
              "      <th>total_eve_mins</th>\n",
              "      <th>...</th>\n",
              "      <th>total_night_mins</th>\n",
              "      <th>total_night_calls</th>\n",
              "      <th>total_night_charge</th>\n",
              "      <th>total_intl_mins</th>\n",
              "      <th>total_intl_calls</th>\n",
              "      <th>total_intl_charge</th>\n",
              "      <th>cust_serv_calls</th>\n",
              "      <th>churn</th>\n",
              "      <th>above_threshold</th>\n",
              "      <th>cumm_daily_charge</th>\n",
              "    </tr>\n",
              "  </thead>\n",
              "  <tbody>\n",
              "    <tr>\n",
              "      <th>0</th>\n",
              "      <td>KS</td>\n",
              "      <td>128</td>\n",
              "      <td>382-4657</td>\n",
              "      <td>no</td>\n",
              "      <td>yes</td>\n",
              "      <td>25</td>\n",
              "      <td>265.1</td>\n",
              "      <td>110</td>\n",
              "      <td>45.07</td>\n",
              "      <td>197.4</td>\n",
              "      <td>...</td>\n",
              "      <td>244.7</td>\n",
              "      <td>91</td>\n",
              "      <td>11.01</td>\n",
              "      <td>10.0</td>\n",
              "      <td>3</td>\n",
              "      <td>2.70</td>\n",
              "      <td>1</td>\n",
              "      <td>False</td>\n",
              "      <td>True</td>\n",
              "      <td>75.56</td>\n",
              "    </tr>\n",
              "    <tr>\n",
              "      <th>1</th>\n",
              "      <td>OH</td>\n",
              "      <td>107</td>\n",
              "      <td>371-7191</td>\n",
              "      <td>no</td>\n",
              "      <td>yes</td>\n",
              "      <td>26</td>\n",
              "      <td>161.6</td>\n",
              "      <td>123</td>\n",
              "      <td>27.47</td>\n",
              "      <td>195.5</td>\n",
              "      <td>...</td>\n",
              "      <td>254.4</td>\n",
              "      <td>103</td>\n",
              "      <td>11.45</td>\n",
              "      <td>13.7</td>\n",
              "      <td>3</td>\n",
              "      <td>3.70</td>\n",
              "      <td>1</td>\n",
              "      <td>False</td>\n",
              "      <td>True</td>\n",
              "      <td>59.24</td>\n",
              "    </tr>\n",
              "    <tr>\n",
              "      <th>2</th>\n",
              "      <td>NJ</td>\n",
              "      <td>137</td>\n",
              "      <td>358-1921</td>\n",
              "      <td>no</td>\n",
              "      <td>no</td>\n",
              "      <td>0</td>\n",
              "      <td>243.4</td>\n",
              "      <td>114</td>\n",
              "      <td>41.38</td>\n",
              "      <td>121.2</td>\n",
              "      <td>...</td>\n",
              "      <td>162.6</td>\n",
              "      <td>104</td>\n",
              "      <td>7.32</td>\n",
              "      <td>12.2</td>\n",
              "      <td>5</td>\n",
              "      <td>3.29</td>\n",
              "      <td>0</td>\n",
              "      <td>False</td>\n",
              "      <td>True</td>\n",
              "      <td>62.29</td>\n",
              "    </tr>\n",
              "    <tr>\n",
              "      <th>3</th>\n",
              "      <td>OH</td>\n",
              "      <td>84</td>\n",
              "      <td>375-9999</td>\n",
              "      <td>yes</td>\n",
              "      <td>no</td>\n",
              "      <td>0</td>\n",
              "      <td>299.4</td>\n",
              "      <td>71</td>\n",
              "      <td>50.90</td>\n",
              "      <td>61.9</td>\n",
              "      <td>...</td>\n",
              "      <td>196.9</td>\n",
              "      <td>89</td>\n",
              "      <td>8.86</td>\n",
              "      <td>6.6</td>\n",
              "      <td>7</td>\n",
              "      <td>1.78</td>\n",
              "      <td>2</td>\n",
              "      <td>False</td>\n",
              "      <td>False</td>\n",
              "      <td>66.80</td>\n",
              "    </tr>\n",
              "    <tr>\n",
              "      <th>4</th>\n",
              "      <td>OK</td>\n",
              "      <td>75</td>\n",
              "      <td>330-6626</td>\n",
              "      <td>yes</td>\n",
              "      <td>no</td>\n",
              "      <td>0</td>\n",
              "      <td>166.7</td>\n",
              "      <td>113</td>\n",
              "      <td>28.34</td>\n",
              "      <td>148.3</td>\n",
              "      <td>...</td>\n",
              "      <td>186.9</td>\n",
              "      <td>121</td>\n",
              "      <td>8.41</td>\n",
              "      <td>10.1</td>\n",
              "      <td>3</td>\n",
              "      <td>2.73</td>\n",
              "      <td>3</td>\n",
              "      <td>False</td>\n",
              "      <td>False</td>\n",
              "      <td>52.09</td>\n",
              "    </tr>\n",
              "  </tbody>\n",
              "</table>\n",
              "<p>5 rows × 22 columns</p>\n",
              "</div>"
            ],
            "text/plain": [
              "  state  account_lengths phone_number intl_plan vmail_plan  \\\n",
              "0    KS              128     382-4657        no        yes   \n",
              "1    OH              107     371-7191        no        yes   \n",
              "2    NJ              137     358-1921        no         no   \n",
              "3    OH               84     375-9999       yes         no   \n",
              "4    OK               75     330-6626       yes         no   \n",
              "\n",
              "   number_vmail_messages  total_day_mins  total_day_calls  total_day_charge  \\\n",
              "0                     25           265.1              110             45.07   \n",
              "1                     26           161.6              123             27.47   \n",
              "2                      0           243.4              114             41.38   \n",
              "3                      0           299.4               71             50.90   \n",
              "4                      0           166.7              113             28.34   \n",
              "\n",
              "   total_eve_mins  ...  total_night_mins  total_night_calls  \\\n",
              "0           197.4  ...             244.7                 91   \n",
              "1           195.5  ...             254.4                103   \n",
              "2           121.2  ...             162.6                104   \n",
              "3            61.9  ...             196.9                 89   \n",
              "4           148.3  ...             186.9                121   \n",
              "\n",
              "   total_night_charge  total_intl_mins  total_intl_calls  total_intl_charge  \\\n",
              "0               11.01             10.0                 3               2.70   \n",
              "1               11.45             13.7                 3               3.70   \n",
              "2                7.32             12.2                 5               3.29   \n",
              "3                8.86              6.6                 7               1.78   \n",
              "4                8.41             10.1                 3               2.73   \n",
              "\n",
              "   cust_serv_calls  churn  above_threshold  cumm_daily_charge  \n",
              "0                1  False             True              75.56  \n",
              "1                1  False             True              59.24  \n",
              "2                0  False             True              62.29  \n",
              "3                2  False            False              66.80  \n",
              "4                3  False            False              52.09  \n",
              "\n",
              "[5 rows x 22 columns]"
            ]
          },
          "execution_count": 33,
          "metadata": {},
          "output_type": "execute_result"
        }
      ],
      "source": [
        "# Dropping area_code feature\n",
        "copydf.drop('area_code', axis = 1, inplace = True)\n",
        "copydf.head()"
      ]
    },
    {
      "cell_type": "code",
      "execution_count": 34,
      "metadata": {},
      "outputs": [
        {
          "data": {
            "text/html": [
              "<div>\n",
              "<style scoped>\n",
              "    .dataframe tbody tr th:only-of-type {\n",
              "        vertical-align: middle;\n",
              "    }\n",
              "\n",
              "    .dataframe tbody tr th {\n",
              "        vertical-align: top;\n",
              "    }\n",
              "\n",
              "    .dataframe thead th {\n",
              "        text-align: right;\n",
              "    }\n",
              "</style>\n",
              "<table border=\"1\" class=\"dataframe\">\n",
              "  <thead>\n",
              "    <tr style=\"text-align: right;\">\n",
              "      <th></th>\n",
              "      <th>state</th>\n",
              "      <th>account_lengths</th>\n",
              "      <th>intl_plan</th>\n",
              "      <th>vmail_plan</th>\n",
              "      <th>number_vmail_messages</th>\n",
              "      <th>total_day_mins</th>\n",
              "      <th>total_day_calls</th>\n",
              "      <th>total_day_charge</th>\n",
              "      <th>total_eve_mins</th>\n",
              "      <th>total_eve_calls</th>\n",
              "      <th>...</th>\n",
              "      <th>total_night_mins</th>\n",
              "      <th>total_night_calls</th>\n",
              "      <th>total_night_charge</th>\n",
              "      <th>total_intl_mins</th>\n",
              "      <th>total_intl_calls</th>\n",
              "      <th>total_intl_charge</th>\n",
              "      <th>cust_serv_calls</th>\n",
              "      <th>churn</th>\n",
              "      <th>above_threshold</th>\n",
              "      <th>cumm_daily_charge</th>\n",
              "    </tr>\n",
              "  </thead>\n",
              "  <tbody>\n",
              "    <tr>\n",
              "      <th>0</th>\n",
              "      <td>KS</td>\n",
              "      <td>128</td>\n",
              "      <td>no</td>\n",
              "      <td>yes</td>\n",
              "      <td>25</td>\n",
              "      <td>265.1</td>\n",
              "      <td>110</td>\n",
              "      <td>45.07</td>\n",
              "      <td>197.4</td>\n",
              "      <td>99</td>\n",
              "      <td>...</td>\n",
              "      <td>244.7</td>\n",
              "      <td>91</td>\n",
              "      <td>11.01</td>\n",
              "      <td>10.0</td>\n",
              "      <td>3</td>\n",
              "      <td>2.70</td>\n",
              "      <td>1</td>\n",
              "      <td>False</td>\n",
              "      <td>True</td>\n",
              "      <td>75.56</td>\n",
              "    </tr>\n",
              "    <tr>\n",
              "      <th>1</th>\n",
              "      <td>OH</td>\n",
              "      <td>107</td>\n",
              "      <td>no</td>\n",
              "      <td>yes</td>\n",
              "      <td>26</td>\n",
              "      <td>161.6</td>\n",
              "      <td>123</td>\n",
              "      <td>27.47</td>\n",
              "      <td>195.5</td>\n",
              "      <td>103</td>\n",
              "      <td>...</td>\n",
              "      <td>254.4</td>\n",
              "      <td>103</td>\n",
              "      <td>11.45</td>\n",
              "      <td>13.7</td>\n",
              "      <td>3</td>\n",
              "      <td>3.70</td>\n",
              "      <td>1</td>\n",
              "      <td>False</td>\n",
              "      <td>True</td>\n",
              "      <td>59.24</td>\n",
              "    </tr>\n",
              "    <tr>\n",
              "      <th>2</th>\n",
              "      <td>NJ</td>\n",
              "      <td>137</td>\n",
              "      <td>no</td>\n",
              "      <td>no</td>\n",
              "      <td>0</td>\n",
              "      <td>243.4</td>\n",
              "      <td>114</td>\n",
              "      <td>41.38</td>\n",
              "      <td>121.2</td>\n",
              "      <td>110</td>\n",
              "      <td>...</td>\n",
              "      <td>162.6</td>\n",
              "      <td>104</td>\n",
              "      <td>7.32</td>\n",
              "      <td>12.2</td>\n",
              "      <td>5</td>\n",
              "      <td>3.29</td>\n",
              "      <td>0</td>\n",
              "      <td>False</td>\n",
              "      <td>True</td>\n",
              "      <td>62.29</td>\n",
              "    </tr>\n",
              "    <tr>\n",
              "      <th>3</th>\n",
              "      <td>OH</td>\n",
              "      <td>84</td>\n",
              "      <td>yes</td>\n",
              "      <td>no</td>\n",
              "      <td>0</td>\n",
              "      <td>299.4</td>\n",
              "      <td>71</td>\n",
              "      <td>50.90</td>\n",
              "      <td>61.9</td>\n",
              "      <td>88</td>\n",
              "      <td>...</td>\n",
              "      <td>196.9</td>\n",
              "      <td>89</td>\n",
              "      <td>8.86</td>\n",
              "      <td>6.6</td>\n",
              "      <td>7</td>\n",
              "      <td>1.78</td>\n",
              "      <td>2</td>\n",
              "      <td>False</td>\n",
              "      <td>False</td>\n",
              "      <td>66.80</td>\n",
              "    </tr>\n",
              "    <tr>\n",
              "      <th>4</th>\n",
              "      <td>OK</td>\n",
              "      <td>75</td>\n",
              "      <td>yes</td>\n",
              "      <td>no</td>\n",
              "      <td>0</td>\n",
              "      <td>166.7</td>\n",
              "      <td>113</td>\n",
              "      <td>28.34</td>\n",
              "      <td>148.3</td>\n",
              "      <td>122</td>\n",
              "      <td>...</td>\n",
              "      <td>186.9</td>\n",
              "      <td>121</td>\n",
              "      <td>8.41</td>\n",
              "      <td>10.1</td>\n",
              "      <td>3</td>\n",
              "      <td>2.73</td>\n",
              "      <td>3</td>\n",
              "      <td>False</td>\n",
              "      <td>False</td>\n",
              "      <td>52.09</td>\n",
              "    </tr>\n",
              "  </tbody>\n",
              "</table>\n",
              "<p>5 rows × 21 columns</p>\n",
              "</div>"
            ],
            "text/plain": [
              "  state  account_lengths intl_plan vmail_plan  number_vmail_messages  \\\n",
              "0    KS              128        no        yes                     25   \n",
              "1    OH              107        no        yes                     26   \n",
              "2    NJ              137        no         no                      0   \n",
              "3    OH               84       yes         no                      0   \n",
              "4    OK               75       yes         no                      0   \n",
              "\n",
              "   total_day_mins  total_day_calls  total_day_charge  total_eve_mins  \\\n",
              "0           265.1              110             45.07           197.4   \n",
              "1           161.6              123             27.47           195.5   \n",
              "2           243.4              114             41.38           121.2   \n",
              "3           299.4               71             50.90            61.9   \n",
              "4           166.7              113             28.34           148.3   \n",
              "\n",
              "   total_eve_calls  ...  total_night_mins  total_night_calls  \\\n",
              "0               99  ...             244.7                 91   \n",
              "1              103  ...             254.4                103   \n",
              "2              110  ...             162.6                104   \n",
              "3               88  ...             196.9                 89   \n",
              "4              122  ...             186.9                121   \n",
              "\n",
              "   total_night_charge  total_intl_mins  total_intl_calls  total_intl_charge  \\\n",
              "0               11.01             10.0                 3               2.70   \n",
              "1               11.45             13.7                 3               3.70   \n",
              "2                7.32             12.2                 5               3.29   \n",
              "3                8.86              6.6                 7               1.78   \n",
              "4                8.41             10.1                 3               2.73   \n",
              "\n",
              "   cust_serv_calls  churn  above_threshold  cumm_daily_charge  \n",
              "0                1  False             True              75.56  \n",
              "1                1  False             True              59.24  \n",
              "2                0  False             True              62.29  \n",
              "3                2  False            False              66.80  \n",
              "4                3  False            False              52.09  \n",
              "\n",
              "[5 rows x 21 columns]"
            ]
          },
          "execution_count": 34,
          "metadata": {},
          "output_type": "execute_result"
        }
      ],
      "source": [
        "#Dropping the phone number feature\n",
        "copydf.drop('phone_number', axis = 1, inplace = True)\n",
        "copydf.head()"
      ]
    },
    {
      "cell_type": "code",
      "execution_count": 35,
      "metadata": {},
      "outputs": [],
      "source": [
        "# Changing international plan fron \"yes\" and \"no\" to binary\n",
        "\n",
        "copydf.intl_plan.replace(('yes', 'no'), (1, 0), inplace = True)"
      ]
    },
    {
      "cell_type": "code",
      "execution_count": 36,
      "metadata": {},
      "outputs": [
        {
          "data": {
            "text/html": [
              "<div>\n",
              "<style scoped>\n",
              "    .dataframe tbody tr th:only-of-type {\n",
              "        vertical-align: middle;\n",
              "    }\n",
              "\n",
              "    .dataframe tbody tr th {\n",
              "        vertical-align: top;\n",
              "    }\n",
              "\n",
              "    .dataframe thead th {\n",
              "        text-align: right;\n",
              "    }\n",
              "</style>\n",
              "<table border=\"1\" class=\"dataframe\">\n",
              "  <thead>\n",
              "    <tr style=\"text-align: right;\">\n",
              "      <th></th>\n",
              "      <th>state</th>\n",
              "      <th>account_lengths</th>\n",
              "      <th>intl_plan</th>\n",
              "      <th>vmail_plan</th>\n",
              "      <th>number_vmail_messages</th>\n",
              "      <th>total_day_mins</th>\n",
              "      <th>total_day_calls</th>\n",
              "      <th>total_day_charge</th>\n",
              "      <th>total_eve_mins</th>\n",
              "      <th>total_eve_calls</th>\n",
              "      <th>...</th>\n",
              "      <th>total_night_mins</th>\n",
              "      <th>total_night_calls</th>\n",
              "      <th>total_night_charge</th>\n",
              "      <th>total_intl_mins</th>\n",
              "      <th>total_intl_calls</th>\n",
              "      <th>total_intl_charge</th>\n",
              "      <th>cust_serv_calls</th>\n",
              "      <th>churn</th>\n",
              "      <th>above_threshold</th>\n",
              "      <th>cumm_daily_charge</th>\n",
              "    </tr>\n",
              "  </thead>\n",
              "  <tbody>\n",
              "    <tr>\n",
              "      <th>0</th>\n",
              "      <td>KS</td>\n",
              "      <td>128</td>\n",
              "      <td>0</td>\n",
              "      <td>1</td>\n",
              "      <td>25</td>\n",
              "      <td>265.1</td>\n",
              "      <td>110</td>\n",
              "      <td>45.07</td>\n",
              "      <td>197.4</td>\n",
              "      <td>99</td>\n",
              "      <td>...</td>\n",
              "      <td>244.7</td>\n",
              "      <td>91</td>\n",
              "      <td>11.01</td>\n",
              "      <td>10.0</td>\n",
              "      <td>3</td>\n",
              "      <td>2.70</td>\n",
              "      <td>1</td>\n",
              "      <td>False</td>\n",
              "      <td>True</td>\n",
              "      <td>75.56</td>\n",
              "    </tr>\n",
              "    <tr>\n",
              "      <th>1</th>\n",
              "      <td>OH</td>\n",
              "      <td>107</td>\n",
              "      <td>0</td>\n",
              "      <td>1</td>\n",
              "      <td>26</td>\n",
              "      <td>161.6</td>\n",
              "      <td>123</td>\n",
              "      <td>27.47</td>\n",
              "      <td>195.5</td>\n",
              "      <td>103</td>\n",
              "      <td>...</td>\n",
              "      <td>254.4</td>\n",
              "      <td>103</td>\n",
              "      <td>11.45</td>\n",
              "      <td>13.7</td>\n",
              "      <td>3</td>\n",
              "      <td>3.70</td>\n",
              "      <td>1</td>\n",
              "      <td>False</td>\n",
              "      <td>True</td>\n",
              "      <td>59.24</td>\n",
              "    </tr>\n",
              "    <tr>\n",
              "      <th>2</th>\n",
              "      <td>NJ</td>\n",
              "      <td>137</td>\n",
              "      <td>0</td>\n",
              "      <td>0</td>\n",
              "      <td>0</td>\n",
              "      <td>243.4</td>\n",
              "      <td>114</td>\n",
              "      <td>41.38</td>\n",
              "      <td>121.2</td>\n",
              "      <td>110</td>\n",
              "      <td>...</td>\n",
              "      <td>162.6</td>\n",
              "      <td>104</td>\n",
              "      <td>7.32</td>\n",
              "      <td>12.2</td>\n",
              "      <td>5</td>\n",
              "      <td>3.29</td>\n",
              "      <td>0</td>\n",
              "      <td>False</td>\n",
              "      <td>True</td>\n",
              "      <td>62.29</td>\n",
              "    </tr>\n",
              "    <tr>\n",
              "      <th>3</th>\n",
              "      <td>OH</td>\n",
              "      <td>84</td>\n",
              "      <td>1</td>\n",
              "      <td>0</td>\n",
              "      <td>0</td>\n",
              "      <td>299.4</td>\n",
              "      <td>71</td>\n",
              "      <td>50.90</td>\n",
              "      <td>61.9</td>\n",
              "      <td>88</td>\n",
              "      <td>...</td>\n",
              "      <td>196.9</td>\n",
              "      <td>89</td>\n",
              "      <td>8.86</td>\n",
              "      <td>6.6</td>\n",
              "      <td>7</td>\n",
              "      <td>1.78</td>\n",
              "      <td>2</td>\n",
              "      <td>False</td>\n",
              "      <td>False</td>\n",
              "      <td>66.80</td>\n",
              "    </tr>\n",
              "    <tr>\n",
              "      <th>4</th>\n",
              "      <td>OK</td>\n",
              "      <td>75</td>\n",
              "      <td>1</td>\n",
              "      <td>0</td>\n",
              "      <td>0</td>\n",
              "      <td>166.7</td>\n",
              "      <td>113</td>\n",
              "      <td>28.34</td>\n",
              "      <td>148.3</td>\n",
              "      <td>122</td>\n",
              "      <td>...</td>\n",
              "      <td>186.9</td>\n",
              "      <td>121</td>\n",
              "      <td>8.41</td>\n",
              "      <td>10.1</td>\n",
              "      <td>3</td>\n",
              "      <td>2.73</td>\n",
              "      <td>3</td>\n",
              "      <td>False</td>\n",
              "      <td>False</td>\n",
              "      <td>52.09</td>\n",
              "    </tr>\n",
              "  </tbody>\n",
              "</table>\n",
              "<p>5 rows × 21 columns</p>\n",
              "</div>"
            ],
            "text/plain": [
              "  state  account_lengths  intl_plan  vmail_plan  number_vmail_messages  \\\n",
              "0    KS              128          0           1                     25   \n",
              "1    OH              107          0           1                     26   \n",
              "2    NJ              137          0           0                      0   \n",
              "3    OH               84          1           0                      0   \n",
              "4    OK               75          1           0                      0   \n",
              "\n",
              "   total_day_mins  total_day_calls  total_day_charge  total_eve_mins  \\\n",
              "0           265.1              110             45.07           197.4   \n",
              "1           161.6              123             27.47           195.5   \n",
              "2           243.4              114             41.38           121.2   \n",
              "3           299.4               71             50.90            61.9   \n",
              "4           166.7              113             28.34           148.3   \n",
              "\n",
              "   total_eve_calls  ...  total_night_mins  total_night_calls  \\\n",
              "0               99  ...             244.7                 91   \n",
              "1              103  ...             254.4                103   \n",
              "2              110  ...             162.6                104   \n",
              "3               88  ...             196.9                 89   \n",
              "4              122  ...             186.9                121   \n",
              "\n",
              "   total_night_charge  total_intl_mins  total_intl_calls  total_intl_charge  \\\n",
              "0               11.01             10.0                 3               2.70   \n",
              "1               11.45             13.7                 3               3.70   \n",
              "2                7.32             12.2                 5               3.29   \n",
              "3                8.86              6.6                 7               1.78   \n",
              "4                8.41             10.1                 3               2.73   \n",
              "\n",
              "   cust_serv_calls  churn  above_threshold  cumm_daily_charge  \n",
              "0                1  False             True              75.56  \n",
              "1                1  False             True              59.24  \n",
              "2                0  False             True              62.29  \n",
              "3                2  False            False              66.80  \n",
              "4                3  False            False              52.09  \n",
              "\n",
              "[5 rows x 21 columns]"
            ]
          },
          "execution_count": 36,
          "metadata": {},
          "output_type": "execute_result"
        }
      ],
      "source": [
        "# Changing voicemail plan fron \"yes\" and \"no\" to binary\n",
        "\n",
        "copydf.vmail_plan.replace(('yes', 'no'), (1, 0), inplace = True)\n",
        "\n",
        "copydf.head()"
      ]
    },
    {
      "cell_type": "markdown",
      "metadata": {},
      "source": [
        "## Train, Test Split"
      ]
    },
    {
      "cell_type": "markdown",
      "metadata": {},
      "source": [
        "Splitting the data into trainig and test sets with 80 percent going to train the model and the remaining 20 percent for testing"
      ]
    },
    {
      "cell_type": "code",
      "execution_count": 37,
      "metadata": {},
      "outputs": [],
      "source": [
        "# create X:\n",
        "X = copydf.drop('churn', axis = 1)\n",
        "\n",
        "# create y:\n",
        "y = copydf.churn"
      ]
    },
    {
      "cell_type": "code",
      "execution_count": 38,
      "metadata": {},
      "outputs": [],
      "source": [
        "# initial split:\n",
        "X_train, X_test, y_train, y_test = train_test_split(X, y, test_size = 0.2, random_state = 42)"
      ]
    },
    {
      "cell_type": "markdown",
      "metadata": {},
      "source": [
        "### One hot encoding the state column"
      ]
    },
    {
      "cell_type": "code",
      "execution_count": 39,
      "metadata": {},
      "outputs": [
        {
          "data": {
            "text/html": [
              "<div>\n",
              "<style scoped>\n",
              "    .dataframe tbody tr th:only-of-type {\n",
              "        vertical-align: middle;\n",
              "    }\n",
              "\n",
              "    .dataframe tbody tr th {\n",
              "        vertical-align: top;\n",
              "    }\n",
              "\n",
              "    .dataframe thead th {\n",
              "        text-align: right;\n",
              "    }\n",
              "</style>\n",
              "<table border=\"1\" class=\"dataframe\">\n",
              "  <thead>\n",
              "    <tr style=\"text-align: right;\">\n",
              "      <th></th>\n",
              "      <th>account_lengths</th>\n",
              "      <th>intl_plan</th>\n",
              "      <th>vmail_plan</th>\n",
              "      <th>number_vmail_messages</th>\n",
              "      <th>total_day_mins</th>\n",
              "      <th>total_day_calls</th>\n",
              "      <th>total_day_charge</th>\n",
              "      <th>total_eve_mins</th>\n",
              "      <th>total_eve_calls</th>\n",
              "      <th>total_eve_charge</th>\n",
              "      <th>...</th>\n",
              "      <th>SD</th>\n",
              "      <th>TN</th>\n",
              "      <th>TX</th>\n",
              "      <th>UT</th>\n",
              "      <th>VA</th>\n",
              "      <th>VT</th>\n",
              "      <th>WA</th>\n",
              "      <th>WI</th>\n",
              "      <th>WV</th>\n",
              "      <th>WY</th>\n",
              "    </tr>\n",
              "  </thead>\n",
              "  <tbody>\n",
              "    <tr>\n",
              "      <th>817</th>\n",
              "      <td>243</td>\n",
              "      <td>0</td>\n",
              "      <td>0</td>\n",
              "      <td>0</td>\n",
              "      <td>95.5</td>\n",
              "      <td>92</td>\n",
              "      <td>16.24</td>\n",
              "      <td>163.7</td>\n",
              "      <td>63</td>\n",
              "      <td>13.91</td>\n",
              "      <td>...</td>\n",
              "      <td>0.0</td>\n",
              "      <td>0.0</td>\n",
              "      <td>0.0</td>\n",
              "      <td>1.0</td>\n",
              "      <td>0.0</td>\n",
              "      <td>0.0</td>\n",
              "      <td>0.0</td>\n",
              "      <td>0.0</td>\n",
              "      <td>0.0</td>\n",
              "      <td>0.0</td>\n",
              "    </tr>\n",
              "    <tr>\n",
              "      <th>1373</th>\n",
              "      <td>108</td>\n",
              "      <td>0</td>\n",
              "      <td>0</td>\n",
              "      <td>0</td>\n",
              "      <td>112.0</td>\n",
              "      <td>105</td>\n",
              "      <td>19.04</td>\n",
              "      <td>193.7</td>\n",
              "      <td>110</td>\n",
              "      <td>16.46</td>\n",
              "      <td>...</td>\n",
              "      <td>0.0</td>\n",
              "      <td>0.0</td>\n",
              "      <td>0.0</td>\n",
              "      <td>0.0</td>\n",
              "      <td>0.0</td>\n",
              "      <td>0.0</td>\n",
              "      <td>0.0</td>\n",
              "      <td>0.0</td>\n",
              "      <td>0.0</td>\n",
              "      <td>0.0</td>\n",
              "    </tr>\n",
              "    <tr>\n",
              "      <th>679</th>\n",
              "      <td>75</td>\n",
              "      <td>1</td>\n",
              "      <td>0</td>\n",
              "      <td>0</td>\n",
              "      <td>222.4</td>\n",
              "      <td>78</td>\n",
              "      <td>37.81</td>\n",
              "      <td>327.0</td>\n",
              "      <td>111</td>\n",
              "      <td>27.80</td>\n",
              "      <td>...</td>\n",
              "      <td>0.0</td>\n",
              "      <td>0.0</td>\n",
              "      <td>1.0</td>\n",
              "      <td>0.0</td>\n",
              "      <td>0.0</td>\n",
              "      <td>0.0</td>\n",
              "      <td>0.0</td>\n",
              "      <td>0.0</td>\n",
              "      <td>0.0</td>\n",
              "      <td>0.0</td>\n",
              "    </tr>\n",
              "    <tr>\n",
              "      <th>56</th>\n",
              "      <td>141</td>\n",
              "      <td>0</td>\n",
              "      <td>0</td>\n",
              "      <td>0</td>\n",
              "      <td>126.9</td>\n",
              "      <td>98</td>\n",
              "      <td>21.57</td>\n",
              "      <td>180.0</td>\n",
              "      <td>62</td>\n",
              "      <td>15.30</td>\n",
              "      <td>...</td>\n",
              "      <td>0.0</td>\n",
              "      <td>0.0</td>\n",
              "      <td>0.0</td>\n",
              "      <td>0.0</td>\n",
              "      <td>0.0</td>\n",
              "      <td>0.0</td>\n",
              "      <td>0.0</td>\n",
              "      <td>0.0</td>\n",
              "      <td>0.0</td>\n",
              "      <td>0.0</td>\n",
              "    </tr>\n",
              "    <tr>\n",
              "      <th>1993</th>\n",
              "      <td>86</td>\n",
              "      <td>0</td>\n",
              "      <td>0</td>\n",
              "      <td>0</td>\n",
              "      <td>216.3</td>\n",
              "      <td>96</td>\n",
              "      <td>36.77</td>\n",
              "      <td>266.3</td>\n",
              "      <td>77</td>\n",
              "      <td>22.64</td>\n",
              "      <td>...</td>\n",
              "      <td>0.0</td>\n",
              "      <td>0.0</td>\n",
              "      <td>0.0</td>\n",
              "      <td>0.0</td>\n",
              "      <td>0.0</td>\n",
              "      <td>0.0</td>\n",
              "      <td>0.0</td>\n",
              "      <td>0.0</td>\n",
              "      <td>0.0</td>\n",
              "      <td>0.0</td>\n",
              "    </tr>\n",
              "  </tbody>\n",
              "</table>\n",
              "<p>5 rows × 70 columns</p>\n",
              "</div>"
            ],
            "text/plain": [
              "      account_lengths  intl_plan  vmail_plan  number_vmail_messages  \\\n",
              "817               243          0           0                      0   \n",
              "1373              108          0           0                      0   \n",
              "679                75          1           0                      0   \n",
              "56                141          0           0                      0   \n",
              "1993               86          0           0                      0   \n",
              "\n",
              "      total_day_mins  total_day_calls  total_day_charge  total_eve_mins  \\\n",
              "817             95.5               92             16.24           163.7   \n",
              "1373           112.0              105             19.04           193.7   \n",
              "679            222.4               78             37.81           327.0   \n",
              "56             126.9               98             21.57           180.0   \n",
              "1993           216.3               96             36.77           266.3   \n",
              "\n",
              "      total_eve_calls  total_eve_charge  ...   SD   TN   TX   UT   VA   VT  \\\n",
              "817                63             13.91  ...  0.0  0.0  0.0  1.0  0.0  0.0   \n",
              "1373              110             16.46  ...  0.0  0.0  0.0  0.0  0.0  0.0   \n",
              "679               111             27.80  ...  0.0  0.0  1.0  0.0  0.0  0.0   \n",
              "56                 62             15.30  ...  0.0  0.0  0.0  0.0  0.0  0.0   \n",
              "1993               77             22.64  ...  0.0  0.0  0.0  0.0  0.0  0.0   \n",
              "\n",
              "       WA   WI   WV   WY  \n",
              "817   0.0  0.0  0.0  0.0  \n",
              "1373  0.0  0.0  0.0  0.0  \n",
              "679   0.0  0.0  0.0  0.0  \n",
              "56    0.0  0.0  0.0  0.0  \n",
              "1993  0.0  0.0  0.0  0.0  \n",
              "\n",
              "[5 rows x 70 columns]"
            ]
          },
          "execution_count": 39,
          "metadata": {},
          "output_type": "execute_result"
        }
      ],
      "source": [
        "# Instantiating ohe object\n",
        "ohe = OneHotEncoder(sparse = False, handle_unknown = \"ignore\")\n",
        "\n",
        "# fit ohe on train data\n",
        "ohe.fit(X_train[['state']])\n",
        "\n",
        "\n",
        "col_names = ohe.categories_[0]\n",
        "\n",
        "\n",
        "# Creating a new dataframe with encoded states\n",
        "train_state_encoded = pd.DataFrame(ohe.transform(X_train[[\"state\"]]), \n",
        "                               index = X_train.index, \n",
        "                               columns = col_names)\n",
        "\n",
        "# Concatinating encoded states with X_train and droping old 'state' column\n",
        "X_train = pd.concat([X_train.drop(\"state\", axis = 1), train_state_encoded], axis = 1)\n",
        "\n",
        "X_train.head()"
      ]
    },
    {
      "cell_type": "markdown",
      "metadata": {},
      "source": [
        "## Baseline Model "
      ]
    },
    {
      "cell_type": "markdown",
      "metadata": {},
      "source": [
        "Using Decision Tree Classifier as the base model. Max Depth will be 5 to avoid overfitting. "
      ]
    },
    {
      "cell_type": "code",
      "execution_count": 40,
      "metadata": {},
      "outputs": [
        {
          "data": {
            "text/plain": [
              "DecisionTreeClassifier(max_depth=5, random_state=42)"
            ]
          },
          "execution_count": 40,
          "metadata": {},
          "output_type": "execute_result"
        }
      ],
      "source": [
        "# Create the classifier, fit it on the training data and make predictions on the tes\n",
        "clf = DecisionTreeClassifier(max_depth = 5, random_state = 42)\n",
        "clf.fit(X_train, y_train)"
      ]
    },
    {
      "cell_type": "code",
      "execution_count": 41,
      "metadata": {},
      "outputs": [
        {
          "name": "stdout",
          "output_type": "stream",
          "text": [
            "Accuracy: 0.98\n",
            "Recall: 0.87\n"
          ]
        }
      ],
      "source": [
        "# One-hot encode the test set\n",
        "X_test_encoded = pd.DataFrame(ohe.transform(X_test[[\"state\"]]), \n",
        "                              index=X_test.index, \n",
        "                              columns=col_names)\n",
        "\n",
        "# Concatenating encoded states with X_test and drop the old 'state' column\n",
        "X_test = pd.concat([X_test.drop(\"state\", axis=1), X_test_encoded], axis=1)\n",
        "\n",
        "# Making predictions on the test set\n",
        "y_preds = clf.predict(X_test)\n",
        "\n",
        "# Evaluating using recall and accuracy scores\n",
        "from sklearn.metrics import accuracy_score, recall_score\n",
        "\n",
        "accuracy = accuracy_score(y_test, y_preds)\n",
        "recall = recall_score(y_test, y_preds)\n",
        "\n",
        "# Displaying results\n",
        "print(f\"Accuracy: {accuracy:.2f}\")\n",
        "print(f\"Recall: {recall:.2f}\")"
      ]
    },
    {
      "cell_type": "markdown",
      "metadata": {},
      "source": [
        "## Feature Selection"
      ]
    },
    {
      "cell_type": "markdown",
      "metadata": {},
      "source": [
        "Using Decision Tree classifier's feature importances method to establish the most releavant features, then create a new Decision Tree with the selected features to cheeck how it performs aganist the base model."
      ]
    },
    {
      "cell_type": "code",
      "execution_count": 42,
      "metadata": {},
      "outputs": [
        {
          "name": "stdout",
          "output_type": "stream",
          "text": [
            "Selected Features: Index(['number_vmail_messages', 'cust_serv_calls', 'cumm_daily_charge'], dtype='object')\n"
          ]
        }
      ],
      "source": [
        "from sklearn.feature_selection import SelectFromModel\n",
        "\n",
        "# Feature importance from the trained Decision Tree\n",
        "feature_importance = clf.feature_importances_\n",
        "\n",
        "# Selecting features with importance above 0.1 threshold\n",
        "threshold = 0.1  \n",
        "sfm = SelectFromModel(clf, threshold=threshold, prefit=True)\n",
        "\n",
        "# Transforming the training and test sets\n",
        "X_train_selected = sfm.transform(X_train)\n",
        "X_test_selected = sfm.transform(X_test)\n",
        "\n",
        "# Showing the selected features\n",
        "selected_feature_names = X_train.columns[sfm.get_support()]\n",
        "print(\"Selected Features:\", selected_feature_names)\n",
        "\n"
      ]
    },
    {
      "cell_type": "markdown",
      "metadata": {},
      "source": [
        "## Exploratory Data Analysis of the top features selected"
      ]
    },
    {
      "cell_type": "code",
      "execution_count": 53,
      "metadata": {},
      "outputs": [
        {
          "name": "stderr",
          "output_type": "stream",
          "text": [
            "<ipython-input-53-96e8c3f41ff9>:8: SettingWithCopyWarning: \n",
            "A value is trying to be set on a copy of a slice from a DataFrame.\n",
            "Try using .loc[row_indexer,col_indexer] = value instead\n",
            "\n",
            "See the caveats in the documentation: https://pandas.pydata.org/pandas-docs/stable/user_guide/indexing.html#returning-a-view-versus-a-copy\n",
            "  churned_data['number_vmail_messages_range'] = pd.cut(churned_data['number_vmail_messages'], bins=bins, right=False)\n"
          ]
        },
        {
          "data": {
            "image/png": "[encoded data removed]",
            "text/plain": [
              "<Figure size 720x432 with 1 Axes>"
            ]
          },
          "metadata": {},
          "output_type": "display_data"
        }
      ],
      "source": [
        "# Filter the DataFrame to include only instances where churn is True\n",
        "churned_data = copydf[copydf['churn'] == 1]\n",
        "\n",
        "# Create bins for number_vmail_messages in ranges of 5 from 0 to 50\n",
        "bins = np.arange(0, 51, 5)\n",
        "\n",
        "# Cut the data into the specified bins\n",
        "churned_data['number_vmail_messages_range'] = pd.cut(churned_data['number_vmail_messages'], bins=bins, right=False)\n",
        "\n",
        "# Calculate counts for each bin\n",
        "counts_number_vmail_messages_churned = churned_data['number_vmail_messages_range'].value_counts().sort_index()\n",
        "\n",
        "# Plot the bar plot\n",
        "counts_number_vmail_messages_churned.plot(kind='bar', figsize=(10, 6))\n",
        "plt.title('Relationship between Number of Voicemail Messages and Churn (Churned Customers Only)')\n",
        "plt.xlabel('Number of Voicemail Messages (in ranges of 5)')\n",
        "plt.ylabel('Count')\n",
        "plt.show()"
      ]
    },
    {
      "cell_type": "markdown",
      "metadata": {},
      "source": [
        "- From the plot above,most customers who churned made less than 5 voicemail messages. <bt>\n",
        "- Checking if customers who churned have a voicemail plan or not"
      ]
    },
    {
      "cell_type": "code",
      "execution_count": 63,
      "metadata": {},
      "outputs": [
        {
          "data": {
            "image/png": "[encoded data removed]",
            "text/plain": [
              "<Figure size 576x432 with 1 Axes>"
            ]
          },
          "metadata": {},
          "output_type": "display_data"
        }
      ],
      "source": [
        "# Filter the DataFrame to include only instances where churn is True\n",
        "churned_data = copydf[copydf['churn'] == 1]\n",
        "\n",
        "# Calculate counts for each value of 'vmail_plan'\n",
        "counts_vmail_plan_churned = churned_data['vmail_plan'].value_counts()\n",
        "\n",
        "# Plot the bar plot\n",
        "counts_vmail_plan_churned.plot(kind='bar', figsize=(8, 6), color=['blue', 'red'])\n",
        "plt.title('Relationship between Voicemail Plan and Churn (Churned Customers Only)')\n",
        "plt.xlabel('Voicemail Plan (0: No, 1: Yes)')\n",
        "plt.ylabel('Count')\n",
        "plt.xticks(rotation=0)\n",
        "plt.show()"
      ]
    },
    {
      "cell_type": "markdown",
      "metadata": {},
      "source": [
        "From this Voicemail plan vs customers who churned plot, we can see most of them did not have a Voicemail Plan which explains the low number of voicemails made."
      ]
    },
    {
      "cell_type": "markdown",
      "metadata": {},
      "source": [
        "Relationship between Number of Customer Service Calls and customers who churned"
      ]
    },
    {
      "cell_type": "code",
      "execution_count": 52,
      "metadata": {},
      "outputs": [
        {
          "data": {
            "image/png": "[encoded data removed]",
            "text/plain": [
              "<Figure size 576x432 with 1 Axes>"
            ]
          },
          "metadata": {},
          "output_type": "display_data"
        }
      ],
      "source": [
        "churned_data = copydf[copydf['churn'] == True]\n",
        "\n",
        "# Calculate counts for each value of 'cust_serv_calls' for churned customers\n",
        "counts_cust_serv_calls_churned = churned_data['cust_serv_calls'].value_counts()\n",
        "\n",
        "# Plot the bar plot\n",
        "counts_cust_serv_calls_churned.plot(kind='bar', figsize=(8, 6))\n",
        "plt.title('Relationship between Customer Service Calls and Churn (Churned Customers Only)')\n",
        "plt.xlabel('Number of Customer Service Calls')\n",
        "plt.ylabel('Count')\n",
        "plt.show()"
      ]
    },
    {
      "cell_type": "markdown",
      "metadata": {},
      "source": [
        "From the plot above, we can see that \n",
        "- Most customers who churned only made 1 call to the customer service. \n",
        "- More than half the churned customers made less than 4 calls.\n",
        "\n",
        "Interpretation:\n",
        "- One interpretation could be, the customer did not get the needed assistance from the customer service team in their first call, and decided to churn\n",
        " \n",
        "- A second interpretation could be the customer service agents are usually not available leading to long holding times for customers. The customer could eventually give up waiting/caling again and decide to try out a competitor telecom service provider."
      ]
    },
    {
      "cell_type": "code",
      "execution_count": 54,
      "metadata": {},
      "outputs": [
        {
          "name": "stderr",
          "output_type": "stream",
          "text": [
            "<ipython-input-54-bb22615624af>:5: SettingWithCopyWarning: \n",
            "A value is trying to be set on a copy of a slice from a DataFrame.\n",
            "Try using .loc[row_indexer,col_indexer] = value instead\n",
            "\n",
            "See the caveats in the documentation: https://pandas.pydata.org/pandas-docs/stable/user_guide/indexing.html#returning-a-view-versus-a-copy\n",
            "  churned_data['cumm_daily_charge_range'] = pd.cut(churned_data['cumm_daily_charge'], bins=bins, right=False)\n"
          ]
        },
        {
          "data": {
            "image/png": "[encoded data removed]",
            "text/plain": [
              "<Figure size 720x432 with 1 Axes>"
            ]
          },
          "metadata": {},
          "output_type": "display_data"
        }
      ],
      "source": [
        "# Create bins for cumm_daily_charge in ranges of 10 from 0 to 100\n",
        "bins = np.arange(0, 101, 10)\n",
        "\n",
        "# Cut the data into the specified bins\n",
        "churned_data['cumm_daily_charge_range'] = pd.cut(churned_data['cumm_daily_charge'], bins=bins, right=False)\n",
        "\n",
        "# Calculate counts for each bin\n",
        "counts_cumm_daily_charge_churned = churned_data['cumm_daily_charge_range'].value_counts().sort_index()\n",
        "\n",
        "# Plot the bar plot\n",
        "counts_cumm_daily_charge_churned.plot(kind='bar', figsize=(10, 6))\n",
        "plt.title('Relationship between Cumulative Daily Charge and Churn (Churned Customers Only)')\n",
        "plt.xlabel('Cumulative Daily Charge (in ranges of 10)')\n",
        "plt.ylabel('Count')\n",
        "plt.show()"
      ]
    },
    {
      "cell_type": "markdown",
      "metadata": {},
      "source": [
        "- From the bar plot above, most customers who churned had high cummulative charges per day. <br>\n",
        "- High charges above the competitors rate could lead to high churn rate."
      ]
    },
    {
      "cell_type": "markdown",
      "metadata": {},
      "source": [
        "Getting the actual charges per call from a cutomer in the dataset"
      ]
    },
    {
      "cell_type": "code",
      "execution_count": 69,
      "metadata": {},
      "outputs": [
        {
          "name": "stdout",
          "output_type": "stream",
          "text": [
            "Charge per minute for International calls: 0.27\n",
            "Charge per minute for Day calls: 0.17\n",
            "Charge per minute for Night calls: 0.05\n"
          ]
        }
      ],
      "source": [
        "# Calculate charge per minute for international calls\n",
        "charge_per_minute_intl = 2.7  / 10\n",
        "\n",
        "# Calculate charge per minute for night calls\n",
        "charge_per_minute_night = 11.01 / 244\n",
        "\n",
        "# Calculate charge per minute for day calls\n",
        "charge_per_minute_day= 16.24/ 95\n",
        "\n",
        "# Display the DataFrame with the new columns\n",
        "print(\"Charge per minute for International calls:\", charge_per_minute_intl)\n",
        "print(f\"Charge per minute for Day calls:{charge_per_minute_day: .2f}\" )\n",
        "print(f\"Charge per minute for Night calls:{charge_per_minute_night: .2f}\" )\n",
        "\n"
      ]
    },
    {
      "cell_type": "markdown",
      "metadata": {},
      "source": [
        "## Model 1: Decision Tree with selected features"
      ]
    },
    {
      "cell_type": "markdown",
      "metadata": {},
      "source": [
        "### Visualizing feature importance in ascending order"
      ]
    },
    {
      "cell_type": "code",
      "execution_count": 95,
      "metadata": {},
      "outputs": [
        {
          "data": {
            "image/png": "[encoded data removed]",
            "text/plain": [
              "<Figure size 720x2880 with 1 Axes>"
            ]
          },
          "metadata": {
            "needs_background": "light"
          },
          "output_type": "display_data"
        }
      ],
      "source": [
        "# Ploting feature importance\n",
        "plt.figure(figsize=(10, 40))\n",
        "sns.barplot(x=feature_importance, y=X_train.columns, order=X_train.columns[np.argsort(feature_importance)[::-1]])\n",
        "plt.title(\"Feature Importance\")\n",
        "plt.xlabel(\"Importance\")\n",
        "plt.ylabel(\"Feature\")\n",
        "plt.show()"
      ]
    },
    {
      "cell_type": "markdown",
      "metadata": {},
      "source": [
        "From the plot above, the most important feature is our engineered cummulative daily charge which sums up a customers total charges. \n",
        "The other most important features from the plot include \n",
        "- Customer service calls\n",
        "- Number of voicemail messages\n",
        "- Total international minutes\n",
        "- International plan\n",
        "- Total international calls"
      ]
    },
    {
      "cell_type": "markdown",
      "metadata": {},
      "source": [
        "Creating new Decision Tree model using the top selected features"
      ]
    },
    {
      "cell_type": "code",
      "execution_count": 96,
      "metadata": {},
      "outputs": [
        {
          "name": "stdout",
          "output_type": "stream",
          "text": [
            "\n",
            "Results with Selected Features:\n",
            "Accuracy: 0.95\n",
            "Recall: 0.68\n"
          ]
        }
      ],
      "source": [
        "# Creating a new Decision Tree classifier using the selected features\n",
        "clf_selected = DecisionTreeClassifier(max_depth=5, random_state=42)\n",
        "clf_selected.fit(X_train_selected, y_train)\n",
        "\n",
        "# Making predictions on the test set using the model with selected features\n",
        "y_preds_selected = clf_selected.predict(X_test_selected)\n",
        "\n",
        "# Evaluation\n",
        "accuracy_selected = accuracy_score(y_test, y_preds_selected)\n",
        "recall_selected = recall_score(y_test, y_preds_selected)\n",
        "\n",
        "# Displaying scores\n",
        "print(\"\\nResults with Selected Features:\")\n",
        "print(f\"Accuracy: {accuracy_selected:.2f}\")\n",
        "print(f\"Recall: {recall_selected:.2f}\")\n"
      ]
    },
    {
      "cell_type": "code",
      "execution_count": 97,
      "metadata": {},
      "outputs": [],
      "source": [
        "#important_features = [['number_vmail_messages', 'cust_serv_calls', 'cumm_daily_charge', 'total_intl_mins', 'intl_plan','total_intl_calls']]"
      ]
    },
    {
      "cell_type": "markdown",
      "metadata": {},
      "source": [
        "## Model 3: Decision Tree with best threshold"
      ]
    },
    {
      "cell_type": "markdown",
      "metadata": {},
      "source": [
        "### Using Cross Validation to determine best threshold"
      ]
    },
    {
      "cell_type": "markdown",
      "metadata": {},
      "source": [
        "Plotting a graph of Cross Validated Accuracy aganist Thresholds that range from 0 to 0.2"
      ]
    },
    {
      "cell_type": "code",
      "execution_count": 98,
      "metadata": {},
      "outputs": [
        {
          "data": {
            "image/png": "[encoded data removed]",
            "text/plain": [
              "<Figure size 720x432 with 1 Axes>"
            ]
          },
          "metadata": {
            "needs_background": "light"
          },
          "output_type": "display_data"
        },
        {
          "name": "stdout",
          "output_type": "stream",
          "text": [
            "Best Threshold: 0.011\n"
          ]
        }
      ],
      "source": [
        "thresholds = np.linspace(0, 0.2, 20) \n",
        "\n",
        "# Performing cross-validated feature selection for each threshold\n",
        "cv_scores = []\n",
        "\n",
        "for threshold in thresholds:\n",
        "    sfm = SelectFromModel(clf, threshold=threshold, prefit=True)\n",
        "    X_train_selected = sfm.transform(X_train)\n",
        "    cv_result = cross_val_score(clf, X_train_selected, y_train, cv=5, scoring='accuracy')\n",
        "    cv_scores.append(np.mean(cv_result))\n",
        "\n",
        "# Finding the threshold that maximizes cross-validated accuracy\n",
        "best_threshold = thresholds[np.argmax(cv_scores)]\n",
        "\n",
        "# Ploting the cross-validated accuracy for different thresholds\n",
        "plt.figure(figsize=(10, 6))\n",
        "plt.plot(thresholds, cv_scores, marker='o')\n",
        "plt.title(\"Cross-Validated Accuracy vs. Threshold\")\n",
        "plt.xlabel(\"Threshold\")\n",
        "plt.ylabel(\"Cross-Validated Accuracy\")\n",
        "plt.axvline(x=best_threshold, color='r', linestyle='--', label=f'Best Threshold: {best_threshold:.3f}')\n",
        "plt.legend()\n",
        "plt.show()\n",
        "\n",
        "\n",
        "print(f\"Best Threshold: {best_threshold:.3f}\")"
      ]
    },
    {
      "cell_type": "markdown",
      "metadata": {},
      "source": [
        "The threshold that maximizes the cross-validated accuracy from the plot above is 0.011."
      ]
    },
    {
      "cell_type": "code",
      "execution_count": 99,
      "metadata": {},
      "outputs": [
        {
          "name": "stdout",
          "output_type": "stream",
          "text": [
            "Results with the Best Threshold:\n",
            "Accuracy: 0.951\n",
            "Recall: 0.871\n"
          ]
        }
      ],
      "source": [
        "# Creating a new Decision Tree classifier using the best threshold\n",
        "sfm2 = SelectFromModel(clf, threshold=0.011, prefit=True)\n",
        "X_train_selected2 = sfm2.transform(X_train)\n",
        "\n",
        "clf_selected2 = DecisionTreeClassifier(random_state=42)\n",
        "clf_selected2.fit(X_train_selected2, y_train)\n",
        "\n",
        "\n",
        "X_test_selected2 = sfm2.transform(X_test)\n",
        "\n",
        "# Predictions\n",
        "y_preds_selected2 = clf_selected2.predict(X_test_selected2)\n",
        "\n",
        "# Evaluation\n",
        "accuracy_selected2 = accuracy_score(y_test, y_preds_selected2)\n",
        "recall_selected2 = recall_score(y_test, y_preds_selected2)\n",
        "\n",
        "\n",
        "print(\"Results with the Best Threshold:\")\n",
        "print(f\"Accuracy: {accuracy_selected2:.3f}\")\n",
        "print(f\"Recall: {recall_selected2:.3f}\")"
      ]
    },
    {
      "cell_type": "markdown",
      "metadata": {},
      "source": [
        "## Model 4: Random Forest"
      ]
    },
    {
      "cell_type": "code",
      "execution_count": 111,
      "metadata": {},
      "outputs": [
        {
          "name": "stdout",
          "output_type": "stream",
          "text": [
            "Random Forest Performance on Selected Features:\n",
            "Accuracy: 0.9805\n",
            "Recall: 0.8713\n",
            "Classification Report:\n",
            "               precision    recall  f1-score   support\n",
            "\n",
            "       False       0.98      1.00      0.99       566\n",
            "        True       1.00      0.87      0.93       101\n",
            "\n",
            "    accuracy                           0.98       667\n",
            "   macro avg       0.99      0.94      0.96       667\n",
            "weighted avg       0.98      0.98      0.98       667\n",
            "\n"
          ]
        }
      ],
      "source": [
        "# Creating a Random Forest classifier\n",
        "rf_classifier_selected2 = RandomForestClassifier(random_state=42)\n",
        "\n",
        "# Fit the model on the selected features from the training set\n",
        "rf_classifier_selected2.fit(X_train_selected2, y_train)\n",
        "\n",
        "# Transform the test set using the same feature selection\n",
        "X_test_selected2 = sfm2.transform(X_test)\n",
        "\n",
        "# Predictions\n",
        "y_preds_rf_selected2 = rf_classifier_selected2.predict(X_test_selected2)\n",
        "\n",
        "# Evaluation\n",
        "accuracy_rf_selected2 = accuracy_score(y_test, y_preds_rf_selected2)\n",
        "recall_rf_selected2 = recall_score(y_test, y_preds_rf_selected2)\n",
        "# Scores report\n",
        "rf_classification_rep2 = classification_report(y_test, y_preds_rf_selected2)\n",
        "\n",
        "\n",
        "print(\"Random Forest Performance on Selected Features:\")\n",
        "print(f\"Accuracy: {accuracy_rf_selected2:.4f}\")\n",
        "print(f\"Recall: {recall_rf_selected2:.4f}\")\n",
        "print(\"Classification Report:\\n\", rf_classification_rep2)"
      ]
    },
    {
      "cell_type": "code",
      "execution_count": 112,
      "metadata": {},
      "outputs": [
        {
          "name": "stdout",
          "output_type": "stream",
          "text": [
            "Confusion Matrix:\n",
            "[[566   0]\n",
            " [ 13  88]]\n",
            "F1 Score: 0.9312\n"
          ]
        }
      ],
      "source": [
        "# Confusion Matrix\n",
        "conf_matrix_rf_selected2 = confusion_matrix(y_test, y_preds_rf_selected2)\n",
        "\n",
        "# F1 Score\n",
        "f1_rf_selected2 = f1_score(y_test, y_preds_rf_selected2)\n",
        "\n",
        "\n",
        "print(\"Confusion Matrix:\")\n",
        "print(conf_matrix_rf_selected2)\n",
        "\n",
        "\n",
        "print(f\"F1 Score: {f1_rf_selected2:.4f}\")"
      ]
    },
    {
      "cell_type": "code",
      "execution_count": 118,
      "metadata": {},
      "outputs": [
        {
          "name": "stdout",
          "output_type": "stream",
          "text": [
            "Cross-Validation Scores (Recall): [0.8961039  0.84210526 0.88157895 0.80263158 0.85714286]\n",
            "Mean Recall: 0.8559125085440875\n",
            "Cross-Validation Scores (F1 Score): [0.94520548 0.91428571 0.93706294 0.89051095 0.92307692]\n",
            "Mean F1 Score: 0.9220284005565478\n"
          ]
        }
      ],
      "source": [
        "# Creating a Random Forest classifier\n",
        "rf_classifier_cv = RandomForestClassifier(random_state=42)\n",
        "\n",
        "# Performing cross-validation with recall and F1 score\n",
        "cv_recall_scores = cross_val_score(rf_classifier_cv, X_train_selected2, y_train, cv=5, scoring='recall')\n",
        "cv_f1_scores = cross_val_score(rf_classifier_cv, X_train_selected2, y_train, cv=5, scoring='f1')\n",
        "\n",
        "\n",
        "print(\"Cross-Validation Scores (Recall):\", cv_recall_scores)\n",
        "print(\"Mean Recall:\", np.mean(cv_recall_scores))\n",
        "\n",
        "print(\"Cross-Validation Scores (F1 Score):\", cv_f1_scores)\n",
        "print(\"Mean F1 Score:\", np.mean(cv_f1_scores))"
      ]
    },
    {
      "cell_type": "markdown",
      "metadata": {},
      "source": [
        "## Model 5: Grid Search"
      ]
    },
    {
      "cell_type": "code",
      "execution_count": 102,
      "metadata": {},
      "outputs": [
        {
          "name": "stdout",
          "output_type": "stream",
          "text": [
            "Tuned Random Forest Performance on Selected Features:\n",
            "Best Parameters: {'max_depth': None, 'max_features': 'auto', 'min_samples_leaf': 1, 'min_samples_split': 2, 'n_estimators': 100}\n",
            "Accuracy: 0.98\n",
            "Recall: 0.87\n"
          ]
        }
      ],
      "source": [
        "from sklearn.model_selection import GridSearchCV\n",
        "\n",
        "# Define the parameter grid to search\n",
        "param_grid = {\n",
        "    'n_estimators': [50, 100, 200],           \n",
        "    'max_depth': [None, 10, 20, 30],          \n",
        "    'min_samples_split': [2, 5, 10],          \n",
        "    'min_samples_leaf': [1, 2, 4],            \n",
        "    'max_features': ['auto', 'sqrt', 'log2']  \n",
        "}\n",
        "\n",
        "# Creating a Random Forest classifier\n",
        "rf_classifier_tuned = RandomForestClassifier(random_state=42)\n",
        "\n",
        "# Instantiating GridSearchCV\n",
        "grid_search = GridSearchCV(estimator=rf_classifier_tuned, param_grid=param_grid, scoring='recall', cv=5)\n",
        "\n",
        "# Fiting the model \n",
        "grid_search.fit(X_train_selected2, y_train)\n",
        "\n",
        "# Getting the best parameters\n",
        "best_params = grid_search.best_params_\n",
        "\n",
        "\n"
      ]
    },
    {
      "cell_type": "code",
      "execution_count": 115,
      "metadata": {},
      "outputs": [
        {
          "name": "stdout",
          "output_type": "stream",
          "text": [
            "Tuned Random Forest Performance on Selected Features:\n",
            "Best Parameters: {'max_depth': None, 'max_features': 'auto', 'min_samples_leaf': 1, 'min_samples_split': 2, 'n_estimators': 100}\n",
            "Accuracy: 0.9805\n",
            "Recall: 0.8713\n"
          ]
        }
      ],
      "source": [
        "# Using the best model for predictions\n",
        "best_rf_classifier = grid_search.best_estimator_\n",
        "y_preds_rf_tuned = best_rf_classifier.predict(X_test_selected2)\n",
        "\n",
        "# Evaluation\n",
        "accuracy_rf_tuned = accuracy_score(y_test, y_preds_rf_tuned)\n",
        "recall_rf_tuned = recall_score(y_test, y_preds_rf_tuned)\n",
        "\n",
        "\n",
        "print(\"Tuned Random Forest Performance on Selected Features:\")\n",
        "print(f\"Best Parameters: {best_params}\")\n",
        "print(f\"Accuracy: {accuracy_rf_tuned:.4f}\")\n",
        "print(f\"Recall: {recall_rf_tuned:.4f}\")"
      ]
    },
    {
      "cell_type": "code",
      "execution_count": 116,
      "metadata": {},
      "outputs": [
        {
          "name": "stdout",
          "output_type": "stream",
          "text": [
            "Confusion Matrix:\n",
            "[[566   0]\n",
            " [ 13  88]]\n",
            "F1 Score: 0.9312\n"
          ]
        }
      ],
      "source": [
        "\n",
        "\n",
        "# Confusion Matrix\n",
        "conf_matrix = confusion_matrix(y_test, y_preds_rf_tuned)\n",
        "\n",
        "# F1 Score\n",
        "f1_rf_tuned = f1_score(y_test, y_preds_rf_tuned)\n",
        "\n",
        "\n",
        "print(\"Confusion Matrix:\")\n",
        "print(conf_matrix)\n",
        "\n",
        "\n",
        "print(f\"F1 Score: {f1_rf_tuned:.4f}\")"
      ]
    },
    {
      "cell_type": "markdown",
      "metadata": {},
      "source": [
        "Cross validation\n",
        "\n",
        "To assess the model's performance and ensure its robustness across different subsets of the data"
      ]
    },
    {
      "cell_type": "code",
      "execution_count": 109,
      "metadata": {},
      "outputs": [
        {
          "name": "stdout",
          "output_type": "stream",
          "text": [
            "Cross-Validation Scores (Recall): [0.8556701  0.88659794 0.83505155 0.84375    0.86458333]\n",
            "Mean Recall: 0.8571305841924399\n",
            "Cross-Validation Scores (F1 Score): [0.92222222 0.93989071 0.91011236 0.91525424 0.9273743 ]\n",
            "Mean F1 Score: 0.9229707662238823\n"
          ]
        }
      ],
      "source": [
        "\n",
        "\n",
        "# Creating a Random Forest classifier with the best parameters\n",
        "best_rf_classifier_cv = RandomForestClassifier(**best_params, random_state=42)\n",
        "\n",
        "# Convert NumPy arrays to DataFrames without specifying columns\n",
        "X_train_selected2_df = pd.DataFrame(X_train_selected2)\n",
        "X_test_selected2_df = pd.DataFrame(X_test_selected2)\n",
        "\n",
        "# Combine the selected features and target variable for cross-validation\n",
        "X_combined_cv = pd.concat([X_train_selected2_df, X_test_selected2_df], axis=0)\n",
        "y_combined_cv = pd.concat([y_train, y_test], axis=0)\n",
        "\n",
        "# Perform cross-validation\n",
        "cv_scores_recall = cross_val_score(best_rf_classifier_cv, X_combined_cv, y_combined_cv, cv=5, scoring='recall')\n",
        "cv_scores_f1 = cross_val_score(best_rf_classifier_cv, X_combined_cv, y_combined_cv, cv=5, scoring='f1')\n",
        "\n",
        "# Display cross-validation scores\n",
        "print(\"Cross-Validation Scores (Recall):\", cv_scores_recall)\n",
        "print(\"Mean Recall:\", np.mean(cv_scores_recall))\n",
        "print(\"Cross-Validation Scores (F1 Score):\", cv_scores_f1)\n",
        "print(\"Mean F1 Score:\", np.mean(cv_scores_f1))"
      ]
    },
    {
      "cell_type": "markdown",
      "metadata": {},
      "source": [
        "**Interpretation:** <br>\n",
        "\n",
        "The accuracy, confusion matrix, and F1 score remained almost identical before and after grid search. This suggests that the hyperparameter tuning did not result in significant changes in the model's performance. This could mean that the model is at its optimal performance\n",
        "\n",
        "**Key Observations:** <br>\n",
        "\n",
        "High Accuracy:<br>\n",
        "The model exhibits high accuracy, correctly classifying a large portion of instances.\n",
        "Recall: <br>\n",
        "The recall is consistently high at 0.87, indicating that the model effectively identifies a significant portion of true positive instances (churn). Recall is particularly important in this scenario since identifying all instances of churn is crucial.\n",
        "Confusion Matrix:<br>\n",
        "The confusion matrix shows a high number of true positives (88) and true negatives (566) with no false positives (FP = 0). The model has 0 false positive, this is very beneficial, indicating that the model is not incorrectly classifying non-churn instances as churn.\n",
        "F1 Score: <br>\n",
        "The F1 score remains high at 0.931, emphasizing a good balance between precision and recall.\n",
        "\n",
        "**Summary:**<br>\n",
        "\n",
        "The model appears to be performing well both before and after grid search, with a focus on correctly identifying instances of churn (high recall) and maintaining a balance between precision and recall (high F1 score). Further adjustments can be considered based on specific business requirements and trade-offs"
      ]
    },
    {
      "cell_type": "markdown",
      "metadata": {},
      "source": [
        "# Conclusion"
      ]
    },
    {
      "cell_type": "markdown",
      "metadata": {},
      "source": [
        "**Original Random Forest Model:**\n",
        "\n",
        "Accuracy: 0.9805 <br>\n",
        "Recall: 0.8713 <br>\n",
        "F1 Score: 0.9312 <br>\n",
        "Cross-Validation Mean Recall: 0.8559<br>\n",
        "Cross-Validation Mean F1 Score: 0.9220<br>\n",
        "\n",
        "\n",
        "**Grid Search Tuned Random Forest Model:**\n",
        "\n",
        "Accuracy: 0.9805 <br>\n",
        "Recall: 0.8713 <br>\n",
        "F1 Score: 0.9312 <br>\n",
        "Cross-Validation Mean Recall: 0.8571 <br>\n",
        "Cross-Validation Mean F1 Score: 0.9230 <br>\n",
        "\n",
        "\n",
        "**Considerations:**\n",
        "\n",
        "Consistency:  Both models show consistent performance between the original and tuned versions. <br>\n",
        "Cross-Validation:  The Grid Search tuned Random Forest model shows slighly better model generalization across different subsets <br>\n",
        "Computational Efficiency:  Grid Search tuned Random Forest model is very resource intensive yet it only has marginal improvement over the performance of the original Random Forest \n",
        "\n",
        "**Decision:**\n",
        "\n",
        "Given that the performance metrics (accuracy, recall, F1 score) and cross-validation results are very close between the original and tuned models, but the tuned model is resource heavy, it is best to go with the original Random Forest as the final model. \n"
      ]
    },
    {
      "cell_type": "code",
      "execution_count": null,
      "metadata": {},
      "outputs": [],
      "source": []
    }
  ],
  "metadata": {
    "colab": {
      "provenance": []
    },
    "kernelspec": {
      "display_name": "Python 3",
      "name": "python3"
    },
    "language_info": {
      "codemirror_mode": {
        "name": "ipython",
        "version": 3
      },
      "file_extension": ".py",
      "mimetype": "text/x-python",
      "name": "python",
      "nbconvert_exporter": "python",
      "pygments_lexer": "ipython3",
      "version": "3.8.5"
    }
  },
  "nbformat": 4,
  "nbformat_minor": 0
}
